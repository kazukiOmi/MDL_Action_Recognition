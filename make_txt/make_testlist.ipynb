{
 "cells": [
  {
   "cell_type": "code",
   "execution_count": 16,
   "source": [
    "import numpy as np\n",
    "import pandas as pd "
   ],
   "outputs": [],
   "metadata": {}
  },
  {
   "cell_type": "code",
   "execution_count": 17,
   "source": [
    "!pwd"
   ],
   "outputs": [
    {
     "output_type": "stream",
     "name": "stdout",
     "text": [
      "/mnt/HDD10TB-1/omi/test/video_training/make_txt\n"
     ]
    }
   ],
   "metadata": {}
  },
  {
   "cell_type": "code",
   "execution_count": 18,
   "source": [
    "filename = '/mnt/NAS-TVS872XT/dataset/Kinetics/kinetics400/test.csv'"
   ],
   "outputs": [],
   "metadata": {}
  },
  {
   "cell_type": "code",
   "execution_count": 19,
   "source": [
    "df = pd.read_csv(filename)"
   ],
   "outputs": [],
   "metadata": {}
  },
  {
   "cell_type": "code",
   "execution_count": 20,
   "source": [
    "df"
   ],
   "outputs": [
    {
     "output_type": "execute_result",
     "data": {
      "text/html": [
       "<div>\n",
       "<style scoped>\n",
       "    .dataframe tbody tr th:only-of-type {\n",
       "        vertical-align: middle;\n",
       "    }\n",
       "\n",
       "    .dataframe tbody tr th {\n",
       "        vertical-align: top;\n",
       "    }\n",
       "\n",
       "    .dataframe thead th {\n",
       "        text-align: right;\n",
       "    }\n",
       "</style>\n",
       "<table border=\"1\" class=\"dataframe\">\n",
       "  <thead>\n",
       "    <tr style=\"text-align: right;\">\n",
       "      <th></th>\n",
       "      <th>label</th>\n",
       "      <th>youtube_id</th>\n",
       "      <th>time_start</th>\n",
       "      <th>time_end</th>\n",
       "      <th>split</th>\n",
       "    </tr>\n",
       "  </thead>\n",
       "  <tbody>\n",
       "    <tr>\n",
       "      <th>0</th>\n",
       "      <td>drinking beer</td>\n",
       "      <td>--6bJUbfpnQ</td>\n",
       "      <td>17</td>\n",
       "      <td>27</td>\n",
       "      <td>test</td>\n",
       "    </tr>\n",
       "    <tr>\n",
       "      <th>1</th>\n",
       "      <td>climbing tree</td>\n",
       "      <td>--8YXc8iCt8</td>\n",
       "      <td>2</td>\n",
       "      <td>12</td>\n",
       "      <td>test</td>\n",
       "    </tr>\n",
       "    <tr>\n",
       "      <th>2</th>\n",
       "      <td>surfing water</td>\n",
       "      <td>--coBvtS-eQ</td>\n",
       "      <td>57</td>\n",
       "      <td>67</td>\n",
       "      <td>test</td>\n",
       "    </tr>\n",
       "    <tr>\n",
       "      <th>3</th>\n",
       "      <td>stomping grapes</td>\n",
       "      <td>--q6ElFyVq0</td>\n",
       "      <td>148</td>\n",
       "      <td>158</td>\n",
       "      <td>test</td>\n",
       "    </tr>\n",
       "    <tr>\n",
       "      <th>4</th>\n",
       "      <td>tai chi</td>\n",
       "      <td>--q_mvQ8zP8</td>\n",
       "      <td>67</td>\n",
       "      <td>77</td>\n",
       "      <td>test</td>\n",
       "    </tr>\n",
       "    <tr>\n",
       "      <th>...</th>\n",
       "      <td>...</td>\n",
       "      <td>...</td>\n",
       "      <td>...</td>\n",
       "      <td>...</td>\n",
       "      <td>...</td>\n",
       "    </tr>\n",
       "    <tr>\n",
       "      <th>35352</th>\n",
       "      <td>catching or throwing softball</td>\n",
       "      <td>zzHsdlYe_5I</td>\n",
       "      <td>11</td>\n",
       "      <td>21</td>\n",
       "      <td>test</td>\n",
       "    </tr>\n",
       "    <tr>\n",
       "      <th>35353</th>\n",
       "      <td>skiing (not slalom or crosscountry)</td>\n",
       "      <td>zzl-3zkieiE</td>\n",
       "      <td>436</td>\n",
       "      <td>446</td>\n",
       "      <td>test</td>\n",
       "    </tr>\n",
       "    <tr>\n",
       "      <th>35354</th>\n",
       "      <td>jumping into pool</td>\n",
       "      <td>zzpqbqLllzA</td>\n",
       "      <td>1</td>\n",
       "      <td>11</td>\n",
       "      <td>test</td>\n",
       "    </tr>\n",
       "    <tr>\n",
       "      <th>35355</th>\n",
       "      <td>gargling</td>\n",
       "      <td>zzy_artj1B8</td>\n",
       "      <td>210</td>\n",
       "      <td>220</td>\n",
       "      <td>test</td>\n",
       "    </tr>\n",
       "    <tr>\n",
       "      <th>35356</th>\n",
       "      <td>juggling fire</td>\n",
       "      <td>zzzkS3amkWE</td>\n",
       "      <td>124</td>\n",
       "      <td>134</td>\n",
       "      <td>test</td>\n",
       "    </tr>\n",
       "  </tbody>\n",
       "</table>\n",
       "<p>35357 rows × 5 columns</p>\n",
       "</div>"
      ],
      "text/plain": [
       "                                     label   youtube_id  time_start  time_end  \\\n",
       "0                            drinking beer  --6bJUbfpnQ          17        27   \n",
       "1                            climbing tree  --8YXc8iCt8           2        12   \n",
       "2                            surfing water  --coBvtS-eQ          57        67   \n",
       "3                          stomping grapes  --q6ElFyVq0         148       158   \n",
       "4                                  tai chi  --q_mvQ8zP8          67        77   \n",
       "...                                    ...          ...         ...       ...   \n",
       "35352        catching or throwing softball  zzHsdlYe_5I          11        21   \n",
       "35353  skiing (not slalom or crosscountry)  zzl-3zkieiE         436       446   \n",
       "35354                    jumping into pool  zzpqbqLllzA           1        11   \n",
       "35355                             gargling  zzy_artj1B8         210       220   \n",
       "35356                        juggling fire  zzzkS3amkWE         124       134   \n",
       "\n",
       "      split  \n",
       "0      test  \n",
       "1      test  \n",
       "2      test  \n",
       "3      test  \n",
       "4      test  \n",
       "...     ...  \n",
       "35352  test  \n",
       "35353  test  \n",
       "35354  test  \n",
       "35355  test  \n",
       "35356  test  \n",
       "\n",
       "[35357 rows x 5 columns]"
      ]
     },
     "metadata": {},
     "execution_count": 20
    }
   ],
   "metadata": {}
  },
  {
   "cell_type": "code",
   "execution_count": 21,
   "source": [
    "print(len(df.index))"
   ],
   "outputs": [
    {
     "output_type": "stream",
     "name": "stdout",
     "text": [
      "35357\n"
     ]
    }
   ],
   "metadata": {}
  },
  {
   "cell_type": "code",
   "execution_count": 22,
   "source": [
    "print(\"{0}/{1}_{2:06d}_{3:06d}.mp4\".format(\n",
    "    df.iloc[0].label,\n",
    "    df.iloc[0].youtube_id,\n",
    "    df.iloc[0].time_start,\n",
    "    df.iloc[0].time_end,\n",
    "))\n",
    "                "
   ],
   "outputs": [
    {
     "output_type": "stream",
     "name": "stdout",
     "text": [
      "drinking beer/--6bJUbfpnQ_000017_000027.mp4\n"
     ]
    }
   ],
   "metadata": {}
  },
  {
   "cell_type": "code",
   "execution_count": 23,
   "source": [
    "f = open('test.txt', 'w')\n",
    "for i in range(len(df.index)):\n",
    "    f.write(\"test/{0}/{1}_{2:06d}_{3:06d}.mp4\\n\".format(\n",
    "        df.iloc[i].label,\n",
    "        df.iloc[i].youtube_id,\n",
    "        df.iloc[i].time_start,\n",
    "        df.iloc[i].time_end,\n",
    "    ))\n",
    "f.close()"
   ],
   "outputs": [],
   "metadata": {}
  },
  {
   "cell_type": "code",
   "execution_count": null,
   "source": [],
   "outputs": [],
   "metadata": {}
  }
 ],
 "metadata": {
  "orig_nbformat": 4,
  "language_info": {
   "name": "python",
   "version": "3.8.8",
   "mimetype": "text/x-python",
   "codemirror_mode": {
    "name": "ipython",
    "version": 3
   },
   "pygments_lexer": "ipython3",
   "nbconvert_exporter": "python",
   "file_extension": ".py"
  },
  "kernelspec": {
   "name": "python3",
   "display_name": "Python 3.8.8 64-bit ('base': conda)"
  },
  "interpreter": {
   "hash": "98b0a9b7b4eaaa670588a142fd0a9b87eaafe866f1db4228be72b4211d12040f"
  }
 },
 "nbformat": 4,
 "nbformat_minor": 2
}