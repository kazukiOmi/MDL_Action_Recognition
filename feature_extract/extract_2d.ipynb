{
 "cells": [
  {
   "cell_type": "code",
   "execution_count": 148,
   "source": [
    "import torch\n",
    "import torch.nn as nn\n",
    "import torchvision\n",
    "import torchinfo"
   ],
   "outputs": [],
   "metadata": {}
  },
  {
   "cell_type": "code",
   "execution_count": 149,
   "source": [
    "device = torch.device(\"cuda:0\" if torch.cuda.is_available() else \"cpu\")\n",
    "model_org = torchvision.models.vgg16()\n",
    "model_org = model_org.to(device)"
   ],
   "outputs": [],
   "metadata": {}
  },
  {
   "cell_type": "markdown",
   "source": [
    "### torchvisionから学習済みモデルをロードする場合の注意点\n",
    "\n",
    "```python\n",
    "model = torchvision.models.vgg16()\n",
    "```\n",
    "\n",
    "と定義した際にランダムで決まるパラメータがあるので比較の際に2度呼び出さずに1度呼び出したモデルを使って比較する．\n",
    "\n"
   ],
   "metadata": {}
  },
  {
   "cell_type": "markdown",
   "source": [
    "\n"
   ],
   "metadata": {}
  },
  {
   "cell_type": "code",
   "execution_count": 150,
   "source": [
    "\n",
    "batch_size = 1\n",
    "torchinfo.summary(\n",
    "    model=model_org,\n",
    "    input_size=(batch_size, 3, 256, 256),\n",
    "    col_names=[\"input_size\",\n",
    "                \"output_size\"],\n",
    "    row_settings=[\"var_names\"],\n",
    "    depth=3 \n",
    ")"
   ],
   "outputs": [
    {
     "output_type": "execute_result",
     "data": {
      "text/plain": [
       "==========================================================================================\n",
       "Layer (type (var_name))                  Input Shape               Output Shape\n",
       "==========================================================================================\n",
       "VGG                                      --                        --\n",
       "├─Sequential (features)                  [1, 3, 256, 256]          [1, 512, 8, 8]\n",
       "│    └─Conv2d (0)                        [1, 3, 256, 256]          [1, 64, 256, 256]\n",
       "│    └─ReLU (1)                          [1, 64, 256, 256]         [1, 64, 256, 256]\n",
       "│    └─Conv2d (2)                        [1, 64, 256, 256]         [1, 64, 256, 256]\n",
       "│    └─ReLU (3)                          [1, 64, 256, 256]         [1, 64, 256, 256]\n",
       "│    └─MaxPool2d (4)                     [1, 64, 256, 256]         [1, 64, 128, 128]\n",
       "│    └─Conv2d (5)                        [1, 64, 128, 128]         [1, 128, 128, 128]\n",
       "│    └─ReLU (6)                          [1, 128, 128, 128]        [1, 128, 128, 128]\n",
       "│    └─Conv2d (7)                        [1, 128, 128, 128]        [1, 128, 128, 128]\n",
       "│    └─ReLU (8)                          [1, 128, 128, 128]        [1, 128, 128, 128]\n",
       "│    └─MaxPool2d (9)                     [1, 128, 128, 128]        [1, 128, 64, 64]\n",
       "│    └─Conv2d (10)                       [1, 128, 64, 64]          [1, 256, 64, 64]\n",
       "│    └─ReLU (11)                         [1, 256, 64, 64]          [1, 256, 64, 64]\n",
       "│    └─Conv2d (12)                       [1, 256, 64, 64]          [1, 256, 64, 64]\n",
       "│    └─ReLU (13)                         [1, 256, 64, 64]          [1, 256, 64, 64]\n",
       "│    └─Conv2d (14)                       [1, 256, 64, 64]          [1, 256, 64, 64]\n",
       "│    └─ReLU (15)                         [1, 256, 64, 64]          [1, 256, 64, 64]\n",
       "│    └─MaxPool2d (16)                    [1, 256, 64, 64]          [1, 256, 32, 32]\n",
       "│    └─Conv2d (17)                       [1, 256, 32, 32]          [1, 512, 32, 32]\n",
       "│    └─ReLU (18)                         [1, 512, 32, 32]          [1, 512, 32, 32]\n",
       "│    └─Conv2d (19)                       [1, 512, 32, 32]          [1, 512, 32, 32]\n",
       "│    └─ReLU (20)                         [1, 512, 32, 32]          [1, 512, 32, 32]\n",
       "│    └─Conv2d (21)                       [1, 512, 32, 32]          [1, 512, 32, 32]\n",
       "│    └─ReLU (22)                         [1, 512, 32, 32]          [1, 512, 32, 32]\n",
       "│    └─MaxPool2d (23)                    [1, 512, 32, 32]          [1, 512, 16, 16]\n",
       "│    └─Conv2d (24)                       [1, 512, 16, 16]          [1, 512, 16, 16]\n",
       "│    └─ReLU (25)                         [1, 512, 16, 16]          [1, 512, 16, 16]\n",
       "│    └─Conv2d (26)                       [1, 512, 16, 16]          [1, 512, 16, 16]\n",
       "│    └─ReLU (27)                         [1, 512, 16, 16]          [1, 512, 16, 16]\n",
       "│    └─Conv2d (28)                       [1, 512, 16, 16]          [1, 512, 16, 16]\n",
       "│    └─ReLU (29)                         [1, 512, 16, 16]          [1, 512, 16, 16]\n",
       "│    └─MaxPool2d (30)                    [1, 512, 16, 16]          [1, 512, 8, 8]\n",
       "├─AdaptiveAvgPool2d (avgpool)            [1, 512, 8, 8]            [1, 512, 7, 7]\n",
       "├─Sequential (classifier)                [1, 25088]                [1, 1000]\n",
       "│    └─Linear (0)                        [1, 25088]                [1, 4096]\n",
       "│    └─ReLU (1)                          [1, 4096]                 [1, 4096]\n",
       "│    └─Dropout (2)                       [1, 4096]                 [1, 4096]\n",
       "│    └─Linear (3)                        [1, 4096]                 [1, 4096]\n",
       "│    └─ReLU (4)                          [1, 4096]                 [1, 4096]\n",
       "│    └─Dropout (5)                       [1, 4096]                 [1, 4096]\n",
       "│    └─Linear (6)                        [1, 4096]                 [1, 1000]\n",
       "==========================================================================================\n",
       "Total params: 138,357,544\n",
       "Trainable params: 138,357,544\n",
       "Non-trainable params: 0\n",
       "Total mult-adds (G): 20.19\n",
       "==========================================================================================\n",
       "Input size (MB): 0.79\n",
       "Forward/backward pass size (MB): 141.63\n",
       "Params size (MB): 553.43\n",
       "Estimated Total Size (MB): 695.85\n",
       "=========================================================================================="
      ]
     },
     "metadata": {},
     "execution_count": 150
    }
   ],
   "metadata": {}
  },
  {
   "cell_type": "code",
   "execution_count": 163,
   "source": [
    "class Adapter(nn.Module):\n",
    "    def __init__(self, dim):\n",
    "        super().__init__()\n",
    "        self.bn1 = nn.BatchNorm2d(dim)\n",
    "        self.conv1 = nn.Conv2d(dim, dim, 1)       \n",
    "        self.bn2 = nn.BatchNorm2d(dim)\n",
    "\n",
    "\n",
    "    def forward(self, x):\n",
    "        residual = x\n",
    "\n",
    "        out = self.bn1(x)\n",
    "        out = self.conv1(out)\n",
    "        \n",
    "        out += residual\n",
    "        out = self.bn2(out)        \n",
    "\n",
    "        return out"
   ],
   "outputs": [],
   "metadata": {}
  },
  {
   "cell_type": "code",
   "execution_count": 164,
   "source": [
    "class ReconstructNet(nn.Module):\n",
    "    def __init__(self):\n",
    "        super().__init__()\n",
    "        model = model_org\n",
    "\n",
    "        self.net_bottom_0 = nn.Sequential(\n",
    "            model.features[:17]\n",
    "        )\n",
    "\n",
    "        self.adapter = Adapter(256)\n",
    "\n",
    "        self.net_bottom_1 = nn.Sequential(\n",
    "            model.features[17:],\n",
    "            model.avgpool\n",
    "        )\n",
    "\n",
    "        self.net_top = nn.Sequential(\n",
    "            model.classifier\n",
    "        )\n",
    "\n",
    "\n",
    "    def forward(self, x):\n",
    "        x = self.net_bottom_0(x)\n",
    "        x = self.adapter(x)\n",
    "        x = self.net_bottom_1(x)\n",
    "        x = torch.flatten(x,1)\n",
    "        x = self.net_top(x)\n",
    "        return x"
   ],
   "outputs": [],
   "metadata": {}
  },
  {
   "cell_type": "code",
   "execution_count": 165,
   "source": [
    "model_new = ReconstructNet()\n",
    "model_new = model_new.to(device)"
   ],
   "outputs": [],
   "metadata": {}
  },
  {
   "cell_type": "code",
   "execution_count": 166,
   "source": [
    "torchinfo.summary(\n",
    "    model=model_new,\n",
    "    input_size=(batch_size, 3, 256, 256),\n",
    "    col_names=[\"input_size\",\n",
    "                \"output_size\"],\n",
    "    row_settings=[\"var_names\"],\n",
    "    depth=3 \n",
    ")"
   ],
   "outputs": [
    {
     "output_type": "execute_result",
     "data": {
      "text/plain": [
       "==========================================================================================\n",
       "Layer (type (var_name))                  Input Shape               Output Shape\n",
       "==========================================================================================\n",
       "ReconstructNet                           --                        --\n",
       "├─Sequential (net_bottom_0)              [1, 3, 256, 256]          [1, 256, 32, 32]\n",
       "│    └─Sequential (0)                    [1, 3, 256, 256]          [1, 256, 32, 32]\n",
       "│    │    └─Conv2d (0)                   [1, 3, 256, 256]          [1, 64, 256, 256]\n",
       "│    │    └─ReLU (1)                     [1, 64, 256, 256]         [1, 64, 256, 256]\n",
       "│    │    └─Conv2d (2)                   [1, 64, 256, 256]         [1, 64, 256, 256]\n",
       "│    │    └─ReLU (3)                     [1, 64, 256, 256]         [1, 64, 256, 256]\n",
       "│    │    └─MaxPool2d (4)                [1, 64, 256, 256]         [1, 64, 128, 128]\n",
       "│    │    └─Conv2d (5)                   [1, 64, 128, 128]         [1, 128, 128, 128]\n",
       "│    │    └─ReLU (6)                     [1, 128, 128, 128]        [1, 128, 128, 128]\n",
       "│    │    └─Conv2d (7)                   [1, 128, 128, 128]        [1, 128, 128, 128]\n",
       "│    │    └─ReLU (8)                     [1, 128, 128, 128]        [1, 128, 128, 128]\n",
       "│    │    └─MaxPool2d (9)                [1, 128, 128, 128]        [1, 128, 64, 64]\n",
       "│    │    └─Conv2d (10)                  [1, 128, 64, 64]          [1, 256, 64, 64]\n",
       "│    │    └─ReLU (11)                    [1, 256, 64, 64]          [1, 256, 64, 64]\n",
       "│    │    └─Conv2d (12)                  [1, 256, 64, 64]          [1, 256, 64, 64]\n",
       "│    │    └─ReLU (13)                    [1, 256, 64, 64]          [1, 256, 64, 64]\n",
       "│    │    └─Conv2d (14)                  [1, 256, 64, 64]          [1, 256, 64, 64]\n",
       "│    │    └─ReLU (15)                    [1, 256, 64, 64]          [1, 256, 64, 64]\n",
       "│    │    └─MaxPool2d (16)               [1, 256, 64, 64]          [1, 256, 32, 32]\n",
       "├─Adapter (adapter)                      [1, 256, 32, 32]          [1, 256, 32, 32]\n",
       "│    └─BatchNorm2d (bn1)                 [1, 256, 32, 32]          [1, 256, 32, 32]\n",
       "│    └─Conv2d (conv1)                    [1, 256, 32, 32]          [1, 256, 32, 32]\n",
       "│    └─BatchNorm2d (bn2)                 [1, 256, 32, 32]          [1, 256, 32, 32]\n",
       "├─Sequential (net_bottom_1)              [1, 256, 32, 32]          [1, 512, 7, 7]\n",
       "│    └─Sequential (0)                    [1, 256, 32, 32]          [1, 512, 8, 8]\n",
       "│    │    └─Conv2d (17)                  [1, 256, 32, 32]          [1, 512, 32, 32]\n",
       "│    │    └─ReLU (18)                    [1, 512, 32, 32]          [1, 512, 32, 32]\n",
       "│    │    └─Conv2d (19)                  [1, 512, 32, 32]          [1, 512, 32, 32]\n",
       "│    │    └─ReLU (20)                    [1, 512, 32, 32]          [1, 512, 32, 32]\n",
       "│    │    └─Conv2d (21)                  [1, 512, 32, 32]          [1, 512, 32, 32]\n",
       "│    │    └─ReLU (22)                    [1, 512, 32, 32]          [1, 512, 32, 32]\n",
       "│    │    └─MaxPool2d (23)               [1, 512, 32, 32]          [1, 512, 16, 16]\n",
       "│    │    └─Conv2d (24)                  [1, 512, 16, 16]          [1, 512, 16, 16]\n",
       "│    │    └─ReLU (25)                    [1, 512, 16, 16]          [1, 512, 16, 16]\n",
       "│    │    └─Conv2d (26)                  [1, 512, 16, 16]          [1, 512, 16, 16]\n",
       "│    │    └─ReLU (27)                    [1, 512, 16, 16]          [1, 512, 16, 16]\n",
       "│    │    └─Conv2d (28)                  [1, 512, 16, 16]          [1, 512, 16, 16]\n",
       "│    │    └─ReLU (29)                    [1, 512, 16, 16]          [1, 512, 16, 16]\n",
       "│    │    └─MaxPool2d (30)               [1, 512, 16, 16]          [1, 512, 8, 8]\n",
       "│    └─AdaptiveAvgPool2d (1)             [1, 512, 8, 8]            [1, 512, 7, 7]\n",
       "├─Sequential (net_top)                   [1, 25088]                [1, 1000]\n",
       "│    └─Sequential (0)                    [1, 25088]                [1, 1000]\n",
       "│    │    └─Linear (0)                   [1, 25088]                [1, 4096]\n",
       "│    │    └─ReLU (1)                     [1, 4096]                 [1, 4096]\n",
       "│    │    └─Dropout (2)                  [1, 4096]                 [1, 4096]\n",
       "│    │    └─Linear (3)                   [1, 4096]                 [1, 4096]\n",
       "│    │    └─ReLU (4)                     [1, 4096]                 [1, 4096]\n",
       "│    │    └─Dropout (5)                  [1, 4096]                 [1, 4096]\n",
       "│    │    └─Linear (6)                   [1, 4096]                 [1, 1000]\n",
       "==========================================================================================\n",
       "Total params: 138,424,360\n",
       "Trainable params: 138,424,360\n",
       "Non-trainable params: 0\n",
       "Total mult-adds (G): 20.25\n",
       "==========================================================================================\n",
       "Input size (MB): 0.79\n",
       "Forward/backward pass size (MB): 147.92\n",
       "Params size (MB): 553.70\n",
       "Estimated Total Size (MB): 702.41\n",
       "=========================================================================================="
      ]
     },
     "metadata": {},
     "execution_count": 166
    }
   ],
   "metadata": {}
  },
  {
   "cell_type": "code",
   "execution_count": 167,
   "source": [
    "data = torch.randn(1, 3, 256, 256).to(device)\n",
    "print(data.shape)\n",
    "print(type(data))\n",
    "# data1 = torch.full((1,3,256,256), 2).to(device)\n",
    "# print(data1.shape)\n",
    "# print(type(data1))"
   ],
   "outputs": [
    {
     "output_type": "stream",
     "name": "stdout",
     "text": [
      "torch.Size([1, 3, 256, 256])\n",
      "<class 'torch.Tensor'>\n"
     ]
    }
   ],
   "metadata": {}
  },
  {
   "cell_type": "code",
   "execution_count": 168,
   "source": [
    "model_org.eval()\n",
    "model_new.eval()\n",
    "output_org = model_org(data).max(axis=1)\n",
    "output_new = model_new(data).max(axis=1)\n",
    "print(output_org)\n",
    "print(output_new)\n",
    "# output_org = model_org(data)\n",
    "# output_new = model_new(data)\n",
    "# # print(output_org.shape)\n",
    "# print(output_new.shape)\n"
   ],
   "outputs": [
    {
     "output_type": "stream",
     "name": "stdout",
     "text": [
      "torch.return_types.max(\n",
      "values=tensor([0.2009], device='cuda:0', grad_fn=<MaxBackward0>),\n",
      "indices=tensor([491], device='cuda:0'))\n",
      "torch.return_types.max(\n",
      "values=tensor([0.2667], device='cuda:0', grad_fn=<MaxBackward0>),\n",
      "indices=tensor([458], device='cuda:0'))\n"
     ]
    }
   ],
   "metadata": {}
  },
  {
   "cell_type": "code",
   "execution_count": 147,
   "source": [
    "# テンソルの出力のまま比較する場合\n",
    "# flag = torch.allclose(output_org,output_new, atol=1e-8)\n",
    "# print(flag)"
   ],
   "outputs": [
    {
     "output_type": "stream",
     "name": "stdout",
     "text": [
      "True\n"
     ]
    }
   ],
   "metadata": {}
  },
  {
   "cell_type": "code",
   "execution_count": null,
   "source": [],
   "outputs": [],
   "metadata": {}
  }
 ],
 "metadata": {
  "orig_nbformat": 4,
  "language_info": {
   "name": "python",
   "version": "3.8.8",
   "mimetype": "text/x-python",
   "codemirror_mode": {
    "name": "ipython",
    "version": 3
   },
   "pygments_lexer": "ipython3",
   "nbconvert_exporter": "python",
   "file_extension": ".py"
  },
  "kernelspec": {
   "name": "python3",
   "display_name": "Python 3.8.8 64-bit ('base': conda)"
  },
  "interpreter": {
   "hash": "98b0a9b7b4eaaa670588a142fd0a9b87eaafe866f1db4228be72b4211d12040f"
  }
 },
 "nbformat": 4,
 "nbformat_minor": 2
}