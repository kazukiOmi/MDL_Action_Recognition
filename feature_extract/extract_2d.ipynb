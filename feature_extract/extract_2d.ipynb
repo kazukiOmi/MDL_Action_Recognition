{
 "cells": [
  {
   "cell_type": "code",
   "execution_count": 1,
   "source": [
    "import torch\n",
    "import torch.nn as nn\n",
    "import torchvision\n",
    "import torchinfo"
   ],
   "outputs": [],
   "metadata": {}
  },
  {
   "cell_type": "code",
   "execution_count": 2,
   "source": [
    "# device = torch.device(\"cuda:0\" if torch.cuda.is_available() else \"cpu\")\n",
    "# model_org = torchvision.models.resnet152(pretrained=True)\n",
    "# model_org = model_org.to(device)"
   ],
   "outputs": [],
   "metadata": {}
  },
  {
   "cell_type": "code",
   "execution_count": 3,
   "source": [
    "# データセットに合わせてモデルの出力次元を変更すするため，オリジナルのモデルの出力層への入力次元を取得\n",
    "\n",
    "# model_org_features = model_org.classifier[6].in_features\n",
    "# print(model_org_features)\n",
    "# print(type(model_org_features))"
   ],
   "outputs": [],
   "metadata": {}
  },
  {
   "cell_type": "code",
   "execution_count": 4,
   "source": [
    "\n",
    "# batch_size = 1\n",
    "# torchinfo.summary(\n",
    "#     model=model_org,\n",
    "#     input_size=(batch_size, 3, 256, 256),\n",
    "#     col_names=[\"input_size\",\n",
    "#                 \"output_size\"],\n",
    "#     row_settings=[\"var_names\"],\n",
    "#     depth=3 \n",
    "# )"
   ],
   "outputs": [],
   "metadata": {}
  },
  {
   "cell_type": "code",
   "execution_count": 5,
   "source": [
    "class Adapter(nn.Module):\n",
    "    def __init__(self, dim):\n",
    "        super().__init__()\n",
    "        self.bn1 = nn.BatchNorm2d(dim)\n",
    "        self.conv1 = nn.Conv2d(dim, dim, 1)       \n",
    "        self.bn2 = nn.BatchNorm2d(dim)\n",
    "\n",
    "\n",
    "    def forward(self, x):\n",
    "        residual = x\n",
    "\n",
    "        out = self.bn1(x)\n",
    "        out = self.conv1(out)\n",
    "        \n",
    "        out += residual\n",
    "        out = self.bn2(out)        \n",
    "\n",
    "        return out"
   ],
   "outputs": [],
   "metadata": {}
  },
  {
   "cell_type": "code",
   "execution_count": 6,
   "source": [
    "class ReconstructNet(nn.Module):\n",
    "    def __init__(self):\n",
    "        super().__init__()\n",
    "        model = torchvision.models.resnet152(pretrained=True)\n",
    "        model_num_features = model.fc.in_features\n",
    "        num_class = 101\n",
    "\n",
    "        self.net_bottom = nn.Sequential(\n",
    "            model.conv1,\n",
    "            model.bn1,\n",
    "            model.relu,\n",
    "            model.maxpool,\n",
    "            model.layer1,\n",
    "            model.layer2,\n",
    "            model.layer3,\n",
    "            model.layer4,\n",
    "            model.avgpool\n",
    "        )\n",
    "\n",
    "        # self.adapter = Adapter(256)\n",
    "\n",
    "\n",
    "        self.net_top = nn.Sequential(\n",
    "            # model.fc\n",
    "            nn.Linear(model_num_features, num_class)\n",
    "        )\n",
    "\n",
    "\n",
    "    def forward(self, x):\n",
    "        x = self.net_bottom(x)\n",
    "        # x = self.adapter(x)\n",
    "        x = torch.flatten(x,1)\n",
    "        x = self.net_top(x)\n",
    "        return x"
   ],
   "outputs": [],
   "metadata": {}
  },
  {
   "cell_type": "code",
   "execution_count": 7,
   "source": [
    "# model_new = ReconstructNet()\n",
    "# model_new = model_new.to(device)"
   ],
   "outputs": [],
   "metadata": {}
  },
  {
   "cell_type": "code",
   "execution_count": 8,
   "source": [
    "# torchinfo.summary(\n",
    "#     model=model_new,\n",
    "#     input_size=(batch_size, 3, 256, 256),\n",
    "#     col_names=[\"input_size\",\n",
    "#                 \"output_size\"],\n",
    "#     row_settings=[\"var_names\"],\n",
    "#     depth=3 \n",
    "# )"
   ],
   "outputs": [],
   "metadata": {}
  },
  {
   "cell_type": "code",
   "execution_count": 9,
   "source": [
    "# # ダミーデータを用意し，出力が一致するか確認\n",
    "# data = torch.randn(1, 3, 256, 256).to(device)\n",
    "# print(data.shape)\n",
    "# print(type(data))\n",
    "\n",
    "# # data1 = torch.full((1,3,256,256), 2).to(device)\n",
    "# # print(data1.shape)\n",
    "# # print(type(data1))"
   ],
   "outputs": [],
   "metadata": {}
  },
  {
   "cell_type": "code",
   "execution_count": 10,
   "source": [
    "# model_org.eval()\n",
    "# model_new.eval()\n",
    "# output_org = model_org(data).max(axis=1)\n",
    "# output_new = model_new(data).max(axis=1)\n",
    "# print(output_org)\n",
    "# print(output_new)\n",
    "# output_org = model_org(data)\n",
    "# output_new = model_new(data)\n",
    "# # print(output_org.shape)\n",
    "# print(output_new.shape)\n"
   ],
   "outputs": [],
   "metadata": {}
  },
  {
   "cell_type": "code",
   "execution_count": 11,
   "source": [
    "# テンソルの出力のまま比較する場合\n",
    "# flag = torch.allclose(output_org,output_new, atol=1e-8)\n",
    "# print(flag)"
   ],
   "outputs": [],
   "metadata": {}
  },
  {
   "cell_type": "markdown",
   "source": [
    "### 実際に学習させてみる\n",
    "- data：Kinetics400\n",
    "- model:vgg16 (Imagenetでpretrain)"
   ],
   "metadata": {}
  },
  {
   "cell_type": "code",
   "execution_count": 12,
   "source": [
    "import torch\n",
    "import torch.nn as nn\n",
    "from torch.utils.data import DataLoader\n",
    "from torch.utils.data.dataloader import default_collate\n",
    "from torch.utils.data import DistributedSampler, RandomSampler\n",
    "\n",
    "from torchvision import transforms\n",
    "\n",
    "from pytorchvideo.models import x3d\n",
    "from pytorchvideo.data import Ucf101, RandomClipSampler, UniformClipSampler, Kinetics\n",
    "\n",
    "# from torchvision.transforms._transforms_video import (\n",
    "#     CenterCropVideo,\n",
    "#     NormalizeVideo,\n",
    "# )\n",
    "\n",
    "from pytorchvideo.transforms import (\n",
    "    ApplyTransformToKey,\n",
    "    Normalize,\n",
    "    RandomShortSideScale,\n",
    "    RemoveKey,\n",
    "    ShortSideScale,\n",
    "    UniformTemporalSubsample,\n",
    ")\n",
    "from torchvision.transforms import (\n",
    "    CenterCrop,\n",
    "    Compose,\n",
    "    Lambda,\n",
    "    RandomCrop,\n",
    "    RandomHorizontalFlip,\n",
    ")\n",
    "\n",
    "from tqdm.notebook import tqdm\n",
    "from collections import OrderedDict\n",
    "import itertools\n",
    "import os"
   ],
   "outputs": [],
   "metadata": {}
  },
  {
   "cell_type": "markdown",
   "source": [
    "- batch_sizeが16だとCudaのメモリ不足だったので4に変更\n",
    "- cluster-smiで確認したらモデルが1000MiB,batch_sizeが4でモデルと合計4000MiB"
   ],
   "metadata": {}
  },
  {
   "cell_type": "code",
   "execution_count": 13,
   "source": [
    "class Args:\n",
    "    def __init__(self):\n",
    "        self.metadata_path = '/mnt/NAS-TVS872XT/dataset/'\n",
    "        self.root = self.metadata_path\n",
    "        self.annotation_path = self.metadata_path\n",
    "        self.FRAMES_PER_CLIP = 16\n",
    "        self.STEP_BETWEEN_CLIPS = 16\n",
    "        self.BATCH_SIZE = 64\n",
    "        self.NUM_WORKERS = 32  \n",
    "        # self.CLIP_DURATION = 16 / 25\n",
    "        self.CLIP_DURATION = (8 * 8) / 30  # (num_frames * sampling_rate)/fps\n",
    "        self.VIDEO_NUM_SUBSAMPLED = 2  # 事前学習済みモデルに合わせて16→8\n",
    "        self.UCF101_NUM_CLASSES = 101\n",
    "        self.KINETIC400_NUM_CLASSES = 400\n",
    "args = Args()"
   ],
   "outputs": [],
   "metadata": {}
  },
  {
   "cell_type": "code",
   "execution_count": 14,
   "source": [
    "class LimitDataset(torch.utils.data.Dataset):\n",
    "    def __init__(self, dataset):\n",
    "        super().__init__()\n",
    "        self.dataset = dataset\n",
    "        self.dataset_iter = itertools.chain.from_iterable(\n",
    "            itertools.repeat(iter(dataset), 2)\n",
    "        )\n",
    "\n",
    "    def __getitem__(self, index):\n",
    "        return next(self.dataset_iter)\n",
    "\n",
    "    def __len__(self):\n",
    "        return self.dataset.num_videos\n",
    "\n"
   ],
   "outputs": [],
   "metadata": {}
  },
  {
   "cell_type": "code",
   "execution_count": 15,
   "source": [
    "def get_ucf101(subset):\n",
    "    \"\"\"\n",
    "    ucf101のデータセットを取得\n",
    "\n",
    "    Args:\n",
    "        subset (str): \"train\" or \"test\"\n",
    "\n",
    "    Returns:\n",
    "        pytorchvideo.data.labeled_video_dataset.LabeledVideoDataset: 取得したデータセット\n",
    "    \"\"\"\n",
    "    subset_root_Ucf101 = 'ucfTrainTestlist/trainlist01.txt'\n",
    "    if subset == \"test\":\n",
    "        subset_root_Ucf101 = 'ucfTrainTestlist/testlist.txt'\n",
    "\n",
    "    args = Args()\n",
    "    transform = Compose([\n",
    "        ApplyTransformToKey(\n",
    "            key=\"video\",\n",
    "            transform=Compose([\n",
    "                UniformTemporalSubsample(args.VIDEO_NUM_SUBSAMPLED),\n",
    "                transforms.Lambda(lambda x: x / 255.),\n",
    "                Normalize((0.45, 0.45, 0.45), (0.225, 0.225, 0.225)),\n",
    "                RandomShortSideScale(min_size=256, max_size=320,),\n",
    "                RandomCrop(224),\n",
    "                RandomHorizontalFlip(),\n",
    "            ]),\n",
    "        ),\n",
    "        ApplyTransformToKey(\n",
    "            key=\"label\",\n",
    "            transform=transforms.Lambda(lambda x: x-1),\n",
    "        ),\n",
    "        RemoveKey(\"audio\"),\n",
    "    ])\n",
    "\n",
    "    root_ucf101 = '/mnt/dataset/UCF101/'\n",
    "\n",
    "    dataset = Ucf101(\n",
    "        data_path=root_ucf101 + subset_root_Ucf101,\n",
    "        video_path_prefix=root_ucf101 + 'video/',\n",
    "        clip_sampler=RandomClipSampler(clip_duration=args.CLIP_DURATION),\n",
    "        video_sampler=RandomSampler,\n",
    "        decode_audio=False,\n",
    "        transform=transform,\n",
    "    )\n",
    "\n",
    "    return dataset"
   ],
   "outputs": [],
   "metadata": {}
  },
  {
   "cell_type": "code",
   "execution_count": 16,
   "source": [
    "\n",
    "def get_kinetics(subset):\n",
    "    \"\"\"\n",
    "    Kinetics400のデータセットを取得\n",
    "\n",
    "    Args:\n",
    "        subset (str): \"train\" or \"val\" or \"test\"\n",
    "\n",
    "    Returns:\n",
    "        pytorchvideo.data.labeled_video_dataset.LabeledVideoDataset: 取得したデータセット\n",
    "    \"\"\"\n",
    "    args = Args()\n",
    "    transform = Compose([\n",
    "        ApplyTransformToKey(\n",
    "            key=\"video\",\n",
    "            transform=Compose([\n",
    "                UniformTemporalSubsample(args.VIDEO_NUM_SUBSAMPLED),\n",
    "                transforms.Lambda(lambda x: x / 255.),\n",
    "                Normalize((0.45, 0.45, 0.45), (0.225, 0.225, 0.225)),\n",
    "                ShortSideScale(size=256),\n",
    "                # RandomShortSideScale(min_size=256, max_size=320,),\n",
    "                # CenterCropVideo(crop_size=(256, 256)),\n",
    "                CenterCrop(256),\n",
    "                # RandomCrop(224),\n",
    "                RandomHorizontalFlip(),\n",
    "            ]),\n",
    "        ),\n",
    "        ApplyTransformToKey(\n",
    "            key=\"label\",\n",
    "            transform=transforms.Lambda(lambda x: x),\n",
    "        ),\n",
    "        RemoveKey(\"audio\"),\n",
    "    ])\n",
    "\n",
    "    root_kinetics = '/mnt/NAS-TVS872XT/dataset/Kinetics400/'\n",
    "\n",
    "    if subset == \"test\":\n",
    "        dataset = Kinetics(\n",
    "            data_path=root_kinetics + \"test_list.txt\",\n",
    "            video_path_prefix=root_kinetics + 'test/',\n",
    "            clip_sampler=RandomClipSampler(clip_duration=args.CLIP_DURATION),\n",
    "            video_sampler=RandomSampler,\n",
    "            decode_audio=False,\n",
    "            transform=transform,\n",
    "        )\n",
    "        return dataset\n",
    "    else:\n",
    "        dataset = Kinetics(\n",
    "            data_path=root_kinetics + subset,\n",
    "            video_path_prefix=root_kinetics + subset,\n",
    "            clip_sampler=RandomClipSampler(clip_duration=args.CLIP_DURATION),\n",
    "            video_sampler=RandomSampler,\n",
    "            decode_audio=False,\n",
    "            transform=transform,\n",
    "        )\n",
    "        return dataset\n",
    "\n",
    "    return False"
   ],
   "outputs": [],
   "metadata": {}
  },
  {
   "cell_type": "code",
   "execution_count": 17,
   "source": [
    "def make_loader(dataset):\n",
    "    \"\"\"\n",
    "    データローダーを作成\n",
    "\n",
    "    Args:\n",
    "        dataset (pytorchvideo.data.labeled_video_dataset.LabeledVideoDataset): get_datasetメソッドで取得したdataset\n",
    "\n",
    "    Returns:\n",
    "        torch.utils.data.DataLoader: 取得したデータローダー\n",
    "    \"\"\"\n",
    "    args = Args()\n",
    "    loader = DataLoader(LimitDataset(dataset),\n",
    "                        batch_size=args.BATCH_SIZE,\n",
    "                        drop_last=True,\n",
    "                        num_workers=args.NUM_WORKERS)\n",
    "    return loader"
   ],
   "outputs": [],
   "metadata": {}
  },
  {
   "cell_type": "code",
   "execution_count": 18,
   "source": [
    "class AverageMeter(object):\n",
    "    \"\"\"\n",
    "    Computes and stores the average and current value\n",
    "    Imported from https://github.com/pytorch/examples/blob/master/imagenet/main.py#L247-L262\n",
    "    https://github.com/machine-perception-robotics-group/attention_branch_network/blob/ced1d97303792ac6d56442571d71bb0572b3efd8/utils/misc.py#L59\n",
    "    \"\"\"\n",
    "    def __init__(self):\n",
    "        self.reset()\n",
    "\n",
    "    def reset(self):\n",
    "        self.val = 0\n",
    "        self.avg = 0\n",
    "        self.sum = 0\n",
    "        self.count = 0\n",
    "\n",
    "    def update(self, val, n=1):\n",
    "        if type(val) == torch.Tensor:\n",
    "            val = val.item()\n",
    "        self.val = val\n",
    "        self.sum += val * n\n",
    "        self.count += n\n",
    "        self.avg = self.sum / self.count\n",
    "\n",
    "def top1(outputs, targets):\n",
    "    batch_size = outputs.size(0)\n",
    "    _, predicted = outputs.max(1)\n",
    "    return predicted.eq(targets).sum().item() / batch_size"
   ],
   "outputs": [],
   "metadata": {}
  },
  {
   "cell_type": "code",
   "execution_count": 19,
   "source": [
    "def make_new_batch(inputs, labels):\n",
    "    \"\"\"\n",
    "    動画データを画像データに分割\n",
    "\n",
    "    Args:\n",
    "        inputs (torch.Tensor): inputs\n",
    "        labels (torch.Tensor): labels\n",
    "\n",
    "    Returns:\n",
    "        new_inputs torch.Tensor: new_inputs\n",
    "        new_labels torch.Tensor: new_labels\n",
    "    \"\"\"\n",
    "\n",
    "    num_frame = inputs.size()[2]\n",
    "    inputs = inputs.permute(0,2,1,3,4)\n",
    "    video_data_list = []\n",
    "    for i in range(inputs.size()[0]):\n",
    "        video_data_list.append(inputs[i])\n",
    "    new_inputs = torch.cat(video_data_list, dim=0)\n",
    "\n",
    "    label_list = []\n",
    "\n",
    "    for i in range(labels.size()[0]):\n",
    "        target_id = labels[i].item()\n",
    "        label = torch.full((1,num_frame), target_id)\n",
    "        label_list.append(label)\n",
    "    new_labels = torch.cat(label_list, dim=1)\n",
    "    new_labels = torch.squeeze(new_labels)\n",
    "\n",
    "    return new_inputs, new_labels"
   ],
   "outputs": [],
   "metadata": {}
  },
  {
   "cell_type": "code",
   "execution_count": 20,
   "source": [
    "def frame_out_to_video_out(output, batch_size, num_frame):\n",
    "    \"\"\"\n",
    "    フレームごとの出力をビデオとしての出力に変換\n",
    "    Args:\n",
    "        output (torch.Tensor): フレームごとの出力\n",
    "        batch_size (int): バッチサイズ\n",
    "        num_frame (int): フレーム数\n",
    "\n",
    "    Returns:\n",
    "        torch.Tensor: [ビデオとしての出力\n",
    "    \"\"\"\n",
    "    video_output_list = []\n",
    "\n",
    "    for i in range(batch_size):\n",
    "        video_output = output[i*num_frame:(i+1)*num_frame]\n",
    "        video_output = torch.mean(video_output, dim=0)\n",
    "        video_output_list.append(video_output)\n",
    "    \n",
    "    new_output =  torch.stack(video_output_list, dim=0)\n",
    "    return new_output"
   ],
   "outputs": [],
   "metadata": {}
  },
  {
   "cell_type": "code",
   "execution_count": 21,
   "source": [
    "device = torch.device(\"cuda\" if torch.cuda.is_available() else \"cpu\")\n",
    "print(device)\n",
    "dataset = get_ucf101(\"train\")\n",
    "# dataset.video_sampler._num_samples = 100\n",
    "train_loader = make_loader(dataset)"
   ],
   "outputs": [
    {
     "output_type": "stream",
     "name": "stdout",
     "text": [
      "cuda\n"
     ]
    }
   ],
   "metadata": {}
  },
  {
   "cell_type": "code",
   "execution_count": 22,
   "source": [
    "model = ReconstructNet()\n",
    "model = model.to(device)\n",
    "# print(device)\n",
    "\n",
    "# if device == \"cuda\":\n",
    "#     print(\"test\")\n",
    "#     model = torch.nn.DataParallel(model)\n",
    "#     cudnn.benchmark = True\n",
    "#     print(\"test\")\n",
    "\n",
    "# model = torch.nn.DataParallel(model)\n",
    "# model = torch.nn.parallel.DistributedDataParallel(model)\n",
    "# torch.backends.cudnn.benchmark = True\n"
   ],
   "outputs": [],
   "metadata": {}
  },
  {
   "cell_type": "code",
   "execution_count": 23,
   "source": [
    "# torch.backends.cudnn.version()"
   ],
   "outputs": [],
   "metadata": {}
  },
  {
   "cell_type": "code",
   "execution_count": 24,
   "source": [
    "# パラメータの名前を確認する\n",
    "# for name, params in model.named_parameters():\n",
    "#     print(name)"
   ],
   "outputs": [],
   "metadata": {}
  },
  {
   "cell_type": "code",
   "execution_count": 25,
   "source": [
    "# 転移学習で学習させるパラメータを、変数params_to_updateに格納する\n",
    "# optimizerの引数にparams_to_updataを入れることもできる\n",
    "params_to_update = []\n",
    "\n",
    "# 学習させるパラメータ名\n",
    "update_param_names = [\"net_top.0.weight\", \"net_top.0.bias\"]\n",
    "\n",
    "# 学習させるパラメータ以外は勾配計算をなくし、変化しないように設定\n",
    "for name, param in model.named_parameters():\n",
    "    if name in update_param_names:\n",
    "        param.requires_grad = True\n",
    "        params_to_update.append(param)\n",
    "        print(name)\n",
    "    else:\n",
    "        param.requires_grad = False"
   ],
   "outputs": [
    {
     "output_type": "stream",
     "name": "stdout",
     "text": [
      "net_top.0.weight\n",
      "net_top.0.bias\n"
     ]
    }
   ],
   "metadata": {}
  },
  {
   "cell_type": "code",
   "execution_count": 26,
   "source": [
    "# for name, param in model.named_parameters():\n",
    "#     param.requires_grad = True\n",
    "#     # print(name)"
   ],
   "outputs": [],
   "metadata": {}
  },
  {
   "cell_type": "code",
   "execution_count": 27,
   "source": [
    "optimizer = torch.optim.SGD(model.parameters(), lr=0.1, momentum=0.9, weight_decay=5e-4)\n",
    "criterion = nn.CrossEntropyLoss()"
   ],
   "outputs": [],
   "metadata": {}
  },
  {
   "cell_type": "code",
   "execution_count": 28,
   "source": [
    "num_epochs = 30\n",
    "\n",
    "acc_list = []\n",
    "loss_list = []\n",
    "\n",
    "with tqdm(range(num_epochs)) as pbar_epoch:\n",
    "    for epoch in pbar_epoch:\n",
    "        pbar_epoch.set_description(\"[Epoch %d]\" % (epoch))\n",
    "\n",
    "\n",
    "        with tqdm(enumerate(train_loader),\n",
    "                  total=len(train_loader),\n",
    "                  leave=True) as pbar_batch:\n",
    "\n",
    "            train_loss = AverageMeter()\n",
    "            train_acc = AverageMeter()\n",
    "            model.train()\n",
    "\n",
    "\n",
    "            for batch_idx, batch in pbar_batch:\n",
    "                pbar_batch.set_description(\"[Epoch :{}]\".format(epoch))\n",
    "\n",
    "                inputs = batch['video'].to(device)\n",
    "                labels = batch['label'].to(device)\n",
    "\n",
    "                new_inputs, new_labels = make_new_batch(inputs, labels)\n",
    "                new_inputs = new_inputs.to(device)\n",
    "                new_labels = new_labels.to(device)\n",
    "                bs = inputs.size(0)\n",
    "                new_bs = new_inputs.size(0)  # current batch size, may vary at the end of the epoch\n",
    "\n",
    "                optimizer.zero_grad()\n",
    "                outputs = model(new_inputs)\n",
    "                # print(outputs.device)\n",
    "                # print(new_labels.device)\n",
    "\n",
    "                # ここでフレームごとの出力をビデオごとの出力に変換する\n",
    "                video_outputs = frame_out_to_video_out(outputs, bs, args.VIDEO_NUM_SUBSAMPLED) \n",
    "\n",
    "                loss = criterion(video_outputs, labels)\n",
    "                loss.backward()\n",
    "                optimizer.step()\n",
    "\n",
    "                \n",
    "                preds = torch.squeeze(video_outputs.max(dim=1)[1])\n",
    "                # print(video_outputs.shape)\n",
    "                # print(preds.shape)\n",
    "\n",
    "                # acc = (preds == labels).float().mean().item()\n",
    "                # acc_list.append(acc)\n",
    "                # pbar_batch.set_postfix(OrderedDict(loss=loss.item(),acc=acc))\n",
    "\n",
    "                train_loss.update(loss, bs)\n",
    "                train_acc.update(top1(video_outputs, labels), bs)\n",
    "\n",
    "                pbar_batch.set_postfix_str(\n",
    "                    ' | loss={:6.04f} , top1={:6.04f}'\n",
    "                    ' | loss={:6.04f} , top1={:6.04f}'\n",
    "                    ''.format(\n",
    "                    train_loss.avg, train_acc.avg,\n",
    "                    train_loss.val, train_acc.val,\n",
    "                ))\n",
    "\n",
    "            acc_list.append(train_acc.avg)\n",
    "            loss_list.append(train_loss.avg)\n",
    "        pbar_epoch.set_postfix(OrderedDict(\n",
    "            acc=sum(acc_list)/len(acc_list),\n",
    "            loss=sum(loss_list)/len(loss_list)\n",
    "        ))\n",
    "\n"
   ],
   "outputs": [
    {
     "output_type": "display_data",
     "data": {
      "application/vnd.jupyter.widget-view+json": {
       "version_major": 2,
       "version_minor": 0,
       "model_id": "a7cc4862e71c4c1ead048807c9f6f05b"
      },
      "text/plain": [
       "HBox(children=(HTML(value=''), FloatProgress(value=0.0, max=30.0), HTML(value='')))"
      ]
     },
     "metadata": {}
    },
    {
     "output_type": "display_data",
     "data": {
      "application/vnd.jupyter.widget-view+json": {
       "version_major": 2,
       "version_minor": 0,
       "model_id": "40a0b36bf0d24430b47d4e9948716cd9"
      },
      "text/plain": [
       "HBox(children=(HTML(value=''), FloatProgress(value=0.0, max=149.0), HTML(value='')))"
      ]
     },
     "metadata": {}
    },
    {
     "output_type": "stream",
     "name": "stdout",
     "text": [
      "\n"
     ]
    },
    {
     "output_type": "display_data",
     "data": {
      "application/vnd.jupyter.widget-view+json": {
       "version_major": 2,
       "version_minor": 0,
       "model_id": "65a5bf49798f427186792f6744461968"
      },
      "text/plain": [
       "HBox(children=(HTML(value=''), FloatProgress(value=0.0, max=149.0), HTML(value='')))"
      ]
     },
     "metadata": {}
    }
   ],
   "metadata": {}
  },
  {
   "cell_type": "code",
   "execution_count": null,
   "source": [],
   "outputs": [],
   "metadata": {}
  }
 ],
 "metadata": {
  "orig_nbformat": 4,
  "language_info": {
   "name": "python",
   "version": "3.8.8",
   "mimetype": "text/x-python",
   "codemirror_mode": {
    "name": "ipython",
    "version": 3
   },
   "pygments_lexer": "ipython3",
   "nbconvert_exporter": "python",
   "file_extension": ".py"
  },
  "kernelspec": {
   "name": "python3",
   "display_name": "Python 3.8.8 64-bit ('base': conda)"
  },
  "interpreter": {
   "hash": "98b0a9b7b4eaaa670588a142fd0a9b87eaafe866f1db4228be72b4211d12040f"
  }
 },
 "nbformat": 4,
 "nbformat_minor": 2
}