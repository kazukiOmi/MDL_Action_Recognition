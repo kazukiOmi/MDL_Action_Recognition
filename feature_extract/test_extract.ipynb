{
 "cells": [
  {
   "cell_type": "code",
   "execution_count": 101,
   "source": [
    "import torch\n",
    "model = torch.hub.load('facebookresearch/pytorchvideo', 'x3d_xs', pretrained=True)\n",
    "model = torch.hub.load('facebookresearch/pytorchvideo', 'x3d_s', pretrained=True)\n",
    "model = torch.hub.load('facebookresearch/pytorchvideo', 'x3d_m', pretrained=True)"
   ],
   "outputs": [
    {
     "output_type": "stream",
     "name": "stderr",
     "text": [
      "Using cache found in /home/omi/.cache/torch/hub/facebookresearch_pytorchvideo_master\n",
      "Using cache found in /home/omi/.cache/torch/hub/facebookresearch_pytorchvideo_master\n",
      "Using cache found in /home/omi/.cache/torch/hub/facebookresearch_pytorchvideo_master\n"
     ]
    }
   ],
   "metadata": {}
  },
  {
   "cell_type": "code",
   "execution_count": 102,
   "source": [
    "import torch.nn as nn\n",
    "from torch.utils.data import DataLoader\n",
    "from torch.utils.data.dataloader import default_collate\n",
    "from torch.utils.data import DistributedSampler, RandomSampler, SequentialSampler\n",
    "\n",
    "\n",
    "from torchvision import transforms\n",
    "\n",
    "\n",
    "from pytorchvideo.models import x3d\n",
    "from pytorchvideo.data import (\n",
    "    Ucf101, \n",
    "    RandomClipSampler, \n",
    "    UniformClipSampler, \n",
    "    Kinetics,\n",
    "    SSv2\n",
    ")\n",
    "\n",
    "\n",
    "from pytorchvideo.transforms import (\n",
    "    ApplyTransformToKey,\n",
    "    Normalize,\n",
    "    RandomShortSideScale,\n",
    "    RemoveKey,\n",
    "    ShortSideScale,\n",
    "    UniformTemporalSubsample,\n",
    ")\n",
    "from torchvision.transforms import (\n",
    "    CenterCrop,\n",
    "    Compose,\n",
    "    Lambda,\n",
    "    RandomCrop,\n",
    "    RandomHorizontalFlip,\n",
    ")\n",
    "\n",
    "\n",
    "import torchinfo\n",
    "\n",
    "from tqdm.notebook import tqdm\n",
    "import itertools\n",
    "import os\n",
    "import pickle"
   ],
   "outputs": [],
   "metadata": {}
  },
  {
   "cell_type": "code",
   "execution_count": 103,
   "source": [
    "class Args:\n",
    "    def __init__(self):\n",
    "        self.metadata_path = '/mnt/NAS-TVS872XT/dataset/'\n",
    "        self.root = self.metadata_path\n",
    "        self.annotation_path = self.metadata_path\n",
    "        self.FRAMES_PER_CLIP = 16\n",
    "        self.STEP_BETWEEN_CLIPS = 16\n",
    "        self.BATCH_SIZE = 16\n",
    "        self.NUM_WORKERS = 8  # kinetics:8, ucf101:24\n",
    "        # self.CLIP_DURATION = 16 / 25\n",
    "        self.CLIP_DURATION = (8 * 8) / 30  # (num_frames * sampling_rate)/fps\n",
    "        self.VIDEO_NUM_SUBSAMPLED = 16  # 事前学習済みモデルに合わせて16→8\n",
    "        self.UCF101_NUM_CLASSES = 101\n",
    "        self.KINETIC400_NUM_CLASSES = 400\n",
    "        self.MODEL_NAME = \"x3d_m\"\n",
    "\n",
    "args = Args()"
   ],
   "outputs": [],
   "metadata": {}
  },
  {
   "cell_type": "code",
   "execution_count": 104,
   "source": [
    "class LimitDataset(torch.utils.data.Dataset):\n",
    "    def __init__(self, dataset):\n",
    "        super().__init__()\n",
    "        self.dataset = dataset\n",
    "        self.dataset_iter = itertools.chain.from_iterable(\n",
    "            itertools.repeat(iter(dataset), 2)\n",
    "        )\n",
    "\n",
    "    def __getitem__(self, index):\n",
    "        return next(self.dataset_iter)\n",
    "\n",
    "    def __len__(self):\n",
    "        return self.dataset.num_videos"
   ],
   "outputs": [],
   "metadata": {}
  },
  {
   "cell_type": "code",
   "execution_count": 105,
   "source": [
    "def get_kinetics(subset):\n",
    "    \"\"\"\n",
    "    Kinetics400のデータセットを取得\n",
    "\n",
    "    Args:\n",
    "        subset (str): \"train\" or \"val\" or \"test\"\n",
    "\n",
    "    Returns:\n",
    "        pytorchvideo.data.labeled_video_dataset.LabeledVideoDataset: 取得したデータセット\n",
    "    \"\"\"\n",
    "    args = Args()\n",
    "    transform = Compose([\n",
    "        ApplyTransformToKey(\n",
    "            key=\"video\",\n",
    "            transform=Compose([\n",
    "                UniformTemporalSubsample(args.VIDEO_NUM_SUBSAMPLED),\n",
    "                transforms.Lambda(lambda x: x / 255.),\n",
    "                Normalize((0.45, 0.45, 0.45), (0.225, 0.225, 0.225)),\n",
    "                ShortSideScale(size=256),\n",
    "                # RandomShortSideScale(min_size=256, max_size=320,),\n",
    "                # CenterCropVideo(crop_size=(256, 256)),\n",
    "                CenterCrop(224),\n",
    "                # RandomCrop(224),\n",
    "                RandomHorizontalFlip(),\n",
    "            ]),\n",
    "        ),\n",
    "        ApplyTransformToKey(\n",
    "            key=\"label\",\n",
    "            transform=transforms.Lambda(lambda x: x),\n",
    "        ),\n",
    "        RemoveKey(\"audio\"),\n",
    "    ])\n",
    "\n",
    "    root_kinetics = '/mnt/NAS-TVS872XT/dataset/Kinetics400/'\n",
    "\n",
    "    if subset == \"test\":\n",
    "        dataset = Kinetics(\n",
    "            data_path=root_kinetics + \"test_list.txt\",\n",
    "            video_path_prefix=root_kinetics + 'test/',\n",
    "            clip_sampler=RandomClipSampler(clip_duration=args.CLIP_DURATION),\n",
    "            video_sampler=RandomSampler,\n",
    "            decode_audio=False,\n",
    "            transform=transform,\n",
    "        )\n",
    "        return dataset\n",
    "    else:\n",
    "        dataset = Kinetics(\n",
    "            data_path=root_kinetics + subset,\n",
    "            video_path_prefix=root_kinetics + subset,\n",
    "            clip_sampler=RandomClipSampler(clip_duration=args.CLIP_DURATION),\n",
    "            video_sampler=RandomSampler,\n",
    "            decode_audio=False,\n",
    "            transform=transform,\n",
    "        )\n",
    "        return dataset\n",
    "\n",
    "    return False"
   ],
   "outputs": [],
   "metadata": {}
  },
  {
   "cell_type": "code",
   "execution_count": 106,
   "source": [
    "def make_loader(dataset):\n",
    "    \"\"\"\n",
    "    データローダーを作成\n",
    "\n",
    "    Args:\n",
    "        dataset (pytorchvideo.data.labeled_video_dataset.LabeledVideoDataset): get_datasetメソッドで取得したdataset\n",
    "\n",
    "    Returns:\n",
    "        torch.utils.data.DataLoader: 取得したデータローダー\n",
    "    \"\"\"\n",
    "    args = Args()\n",
    "    loader = DataLoader(LimitDataset(dataset),\n",
    "                        batch_size=args.BATCH_SIZE,\n",
    "                        drop_last=True,\n",
    "                        num_workers=args.NUM_WORKERS)\n",
    "    return loader"
   ],
   "outputs": [],
   "metadata": {}
  },
  {
   "cell_type": "code",
   "execution_count": 107,
   "source": [
    "device = torch.device(\"cuda:0\" if torch.cuda.is_available() else \"cpu\")\n",
    "model_org = torch.hub.load(\n",
    "        'facebookresearch/pytorchvideo', args.MODEL_NAME, pretrained=True)\n",
    "model_org = model_org.to(device)\n",
    "dataset = get_kinetics(\"test\")"
   ],
   "outputs": [
    {
     "output_type": "stream",
     "name": "stderr",
     "text": [
      "Using cache found in /home/omi/.cache/torch/hub/facebookresearch_pytorchvideo_master\n"
     ]
    }
   ],
   "metadata": {}
  },
  {
   "cell_type": "code",
   "execution_count": 108,
   "source": [
    "data = dataset.__next__()\n",
    "data = data[\"video\"]\n",
    "print(data.shape)"
   ],
   "outputs": [
    {
     "output_type": "stream",
     "name": "stdout",
     "text": [
      "torch.Size([3, 16, 224, 224])\n"
     ]
    }
   ],
   "metadata": {}
  },
  {
   "cell_type": "code",
   "execution_count": 109,
   "source": [
    "batch_size = 1\n",
    "\n",
    "torchinfo.summary(\n",
    "    model_org,\n",
    "    input_size=(batch_size,3,16,224,224),\n",
    "    depth=4,\n",
    "    col_names=[\"input_size\",\n",
    "               \"output_size\"],\n",
    "    row_settings=(\"var_names\",)\n",
    ")"
   ],
   "outputs": [
    {
     "output_type": "execute_result",
     "data": {
      "text/plain": [
       "==============================================================================================================\n",
       "Layer (type (var_name))                                      Input Shape               Output Shape\n",
       "==============================================================================================================\n",
       "Net                                                          --                        --\n",
       "├─ModuleList (blocks)                                        --                        --\n",
       "│    └─ResStage (1)                                          --                        --\n",
       "│    │    └─ModuleList (res_blocks)                          --                        --\n",
       "│    └─ResStage (2)                                          --                        --\n",
       "│    │    └─ModuleList (res_blocks)                          --                        --\n",
       "│    └─ResStage (3)                                          --                        --\n",
       "│    │    └─ModuleList (res_blocks)                          --                        --\n",
       "│    └─ResStage (4)                                          --                        --\n",
       "│    │    └─ModuleList (res_blocks)                          --                        --\n",
       "│    └─ResNetBasicStem (0)                                   [1, 3, 16, 224, 224]      [1, 24, 16, 112, 112]\n",
       "│    │    └─Conv2plus1d (conv)                               [1, 3, 16, 224, 224]      [1, 24, 16, 112, 112]\n",
       "│    │    │    └─Conv3d (conv_t)                             [1, 3, 16, 224, 224]      [1, 24, 16, 112, 112]\n",
       "│    │    │    └─Conv3d (conv_xy)                            [1, 24, 16, 112, 112]     [1, 24, 16, 112, 112]\n",
       "│    │    └─BatchNorm3d (norm)                               [1, 24, 16, 112, 112]     [1, 24, 16, 112, 112]\n",
       "│    │    └─ReLU (activation)                                [1, 24, 16, 112, 112]     [1, 24, 16, 112, 112]\n",
       "│    └─ResStage (1)                                          [1, 24, 16, 112, 112]     [1, 24, 16, 56, 56]\n",
       "│    │    └─ModuleList (res_blocks)                          --                        --\n",
       "│    │    │    └─ResBlock (0)                                [1, 24, 16, 112, 112]     [1, 24, 16, 56, 56]\n",
       "│    │    │    └─ResBlock (1)                                [1, 24, 16, 56, 56]       [1, 24, 16, 56, 56]\n",
       "│    │    │    └─ResBlock (2)                                [1, 24, 16, 56, 56]       [1, 24, 16, 56, 56]\n",
       "│    └─ResStage (2)                                          [1, 24, 16, 56, 56]       [1, 48, 16, 28, 28]\n",
       "│    │    └─ModuleList (res_blocks)                          --                        --\n",
       "│    │    │    └─ResBlock (0)                                [1, 24, 16, 56, 56]       [1, 48, 16, 28, 28]\n",
       "│    │    │    └─ResBlock (1)                                [1, 48, 16, 28, 28]       [1, 48, 16, 28, 28]\n",
       "│    │    │    └─ResBlock (2)                                [1, 48, 16, 28, 28]       [1, 48, 16, 28, 28]\n",
       "│    │    │    └─ResBlock (3)                                [1, 48, 16, 28, 28]       [1, 48, 16, 28, 28]\n",
       "│    │    │    └─ResBlock (4)                                [1, 48, 16, 28, 28]       [1, 48, 16, 28, 28]\n",
       "│    └─ResStage (3)                                          [1, 48, 16, 28, 28]       [1, 96, 16, 14, 14]\n",
       "│    │    └─ModuleList (res_blocks)                          --                        --\n",
       "│    │    │    └─ResBlock (0)                                [1, 48, 16, 28, 28]       [1, 96, 16, 14, 14]\n",
       "│    │    │    └─ResBlock (1)                                [1, 96, 16, 14, 14]       [1, 96, 16, 14, 14]\n",
       "│    │    │    └─ResBlock (2)                                [1, 96, 16, 14, 14]       [1, 96, 16, 14, 14]\n",
       "│    │    │    └─ResBlock (3)                                [1, 96, 16, 14, 14]       [1, 96, 16, 14, 14]\n",
       "│    │    │    └─ResBlock (4)                                [1, 96, 16, 14, 14]       [1, 96, 16, 14, 14]\n",
       "│    │    │    └─ResBlock (5)                                [1, 96, 16, 14, 14]       [1, 96, 16, 14, 14]\n",
       "│    │    │    └─ResBlock (6)                                [1, 96, 16, 14, 14]       [1, 96, 16, 14, 14]\n",
       "│    │    │    └─ResBlock (7)                                [1, 96, 16, 14, 14]       [1, 96, 16, 14, 14]\n",
       "│    │    │    └─ResBlock (8)                                [1, 96, 16, 14, 14]       [1, 96, 16, 14, 14]\n",
       "│    │    │    └─ResBlock (9)                                [1, 96, 16, 14, 14]       [1, 96, 16, 14, 14]\n",
       "│    │    │    └─ResBlock (10)                               [1, 96, 16, 14, 14]       [1, 96, 16, 14, 14]\n",
       "│    └─ResStage (4)                                          [1, 96, 16, 14, 14]       [1, 192, 16, 7, 7]\n",
       "│    │    └─ModuleList (res_blocks)                          --                        --\n",
       "│    │    │    └─ResBlock (0)                                [1, 96, 16, 14, 14]       [1, 192, 16, 7, 7]\n",
       "│    │    │    └─ResBlock (1)                                [1, 192, 16, 7, 7]        [1, 192, 16, 7, 7]\n",
       "│    │    │    └─ResBlock (2)                                [1, 192, 16, 7, 7]        [1, 192, 16, 7, 7]\n",
       "│    │    │    └─ResBlock (3)                                [1, 192, 16, 7, 7]        [1, 192, 16, 7, 7]\n",
       "│    │    │    └─ResBlock (4)                                [1, 192, 16, 7, 7]        [1, 192, 16, 7, 7]\n",
       "│    │    │    └─ResBlock (5)                                [1, 192, 16, 7, 7]        [1, 192, 16, 7, 7]\n",
       "│    │    │    └─ResBlock (6)                                [1, 192, 16, 7, 7]        [1, 192, 16, 7, 7]\n",
       "│    └─ResNetBasicHead (5)                                   [1, 192, 16, 7, 7]        [1, 400]\n",
       "│    │    └─ProjectedPool (pool)                             [1, 192, 16, 7, 7]        [1, 2048, 1, 1, 1]\n",
       "│    │    │    └─Conv3d (pre_conv)                           [1, 192, 16, 7, 7]        [1, 432, 16, 7, 7]\n",
       "│    │    │    └─BatchNorm3d (pre_norm)                      [1, 432, 16, 7, 7]        [1, 432, 16, 7, 7]\n",
       "│    │    │    └─ReLU (pre_act)                              [1, 432, 16, 7, 7]        [1, 432, 16, 7, 7]\n",
       "│    │    │    └─AvgPool3d (pool)                            [1, 432, 16, 7, 7]        [1, 432, 1, 1, 1]\n",
       "│    │    │    └─Conv3d (post_conv)                          [1, 432, 1, 1, 1]         [1, 2048, 1, 1, 1]\n",
       "│    │    │    └─ReLU (post_act)                             [1, 2048, 1, 1, 1]        [1, 2048, 1, 1, 1]\n",
       "│    │    └─Dropout (dropout)                                [1, 2048, 1, 1, 1]        [1, 2048, 1, 1, 1]\n",
       "│    │    └─Linear (proj)                                    [1, 1, 1, 1, 2048]        [1, 1, 1, 1, 400]\n",
       "│    │    └─Softmax (activation)                             [1, 400, 1, 1, 1]         [1, 400, 1, 1, 1]\n",
       "│    │    └─AdaptiveAvgPool3d (output_pool)                  [1, 400, 1, 1, 1]         [1, 400, 1, 1, 1]\n",
       "==============================================================================================================\n",
       "Total params: 3,794,274\n",
       "Trainable params: 3,794,274\n",
       "Non-trainable params: 0\n",
       "Total mult-adds (G): 4.73\n",
       "==============================================================================================================\n",
       "Input size (MB): 9.63\n",
       "Forward/backward pass size (MB): 1358.41\n",
       "Params size (MB): 15.18\n",
       "Estimated Total Size (MB): 1383.22\n",
       "=============================================================================================================="
      ]
     },
     "metadata": {},
     "execution_count": 109
    }
   ],
   "metadata": {}
  },
  {
   "cell_type": "code",
   "execution_count": 123,
   "source": [
    "class ReconstructNet(nn.Module):\n",
    "    def __init__(self):\n",
    "        super().__init__()\n",
    "        model = torch.hub.load(\n",
    "        'facebookresearch/pytorchvideo', args.MODEL_NAME, pretrained=True)\n",
    "\n",
    "        self.res_blocks = nn.Sequential(\n",
    "            # model.blocks[0],\n",
    "            # model.blocks[1]\n",
    "            model.blocks\n",
    "        )\n",
    "\n",
    "    def forward(self, x: torch.Tensor) -> torch.Tensor:\n",
    "        x = self.res_blocks(x)\n",
    "        return x\n",
    "    \n",
    "\n",
    "\n",
    "model_new = ReconstructNet()"
   ],
   "outputs": [
    {
     "output_type": "stream",
     "name": "stderr",
     "text": [
      "Using cache found in /home/omi/.cache/torch/hub/facebookresearch_pytorchvideo_master\n"
     ]
    }
   ],
   "metadata": {}
  },
  {
   "cell_type": "code",
   "execution_count": 124,
   "source": [
    "model_new = ReconstructNet()\n",
    "model_new = model_new.to(device)"
   ],
   "outputs": [
    {
     "output_type": "stream",
     "name": "stderr",
     "text": [
      "Using cache found in /home/omi/.cache/torch/hub/facebookresearch_pytorchvideo_master\n"
     ]
    }
   ],
   "metadata": {}
  },
  {
   "cell_type": "code",
   "execution_count": 125,
   "source": [
    "torchinfo.summary(\n",
    "    model_new,\n",
    "    depth=4\n",
    ")"
   ],
   "outputs": [
    {
     "output_type": "execute_result",
     "data": {
      "text/plain": [
       "==========================================================================================\n",
       "Layer (type:depth-idx)                                            Param #\n",
       "==========================================================================================\n",
       "ReconstructNet                                                    --\n",
       "├─Sequential: 1-1                                                 --\n",
       "│    └─ModuleList: 2-1                                            --\n",
       "│    │    └─ResNetBasicStem: 3-1                                  --\n",
       "│    │    │    └─Conv2plus1d: 4-1                                 768\n",
       "│    │    │    └─BatchNorm3d: 4-2                                 48\n",
       "│    │    │    └─ReLU: 4-3                                        --\n",
       "│    │    └─ResStage: 3-2                                         --\n",
       "│    │    │    └─ModuleList: 4-4                                  15,370\n",
       "│    │    └─ResStage: 3-3                                         --\n",
       "│    │    │    └─ModuleList: 4-5                                  73,248\n",
       "│    │    └─ResStage: 3-4                                         --\n",
       "│    │    │    └─ModuleList: 4-6                                  569,256\n",
       "│    │    └─ResStage: 3-5                                         --\n",
       "│    │    │    └─ModuleList: 4-7                                  1,347,440\n",
       "│    │    └─ResNetBasicHead: 3-6                                  --\n",
       "│    │    │    └─ProjectedPool: 4-8                               968,544\n",
       "│    │    │    └─Dropout: 4-9                                     --\n",
       "│    │    │    └─Linear: 4-10                                     819,600\n",
       "│    │    │    └─Softmax: 4-11                                    --\n",
       "│    │    │    └─AdaptiveAvgPool3d: 4-12                          --\n",
       "==========================================================================================\n",
       "Total params: 3,794,274\n",
       "Trainable params: 3,794,274\n",
       "Non-trainable params: 0\n",
       "=========================================================================================="
      ]
     },
     "metadata": {},
     "execution_count": 125
    }
   ],
   "metadata": {}
  },
  {
   "cell_type": "code",
   "execution_count": null,
   "source": [],
   "outputs": [],
   "metadata": {}
  }
 ],
 "metadata": {
  "orig_nbformat": 4,
  "language_info": {
   "name": "python",
   "version": "3.8.8",
   "mimetype": "text/x-python",
   "codemirror_mode": {
    "name": "ipython",
    "version": 3
   },
   "pygments_lexer": "ipython3",
   "nbconvert_exporter": "python",
   "file_extension": ".py"
  },
  "kernelspec": {
   "name": "python3",
   "display_name": "Python 3.8.8 64-bit ('base': conda)"
  },
  "interpreter": {
   "hash": "98b0a9b7b4eaaa670588a142fd0a9b87eaafe866f1db4228be72b4211d12040f"
  }
 },
 "nbformat": 4,
 "nbformat_minor": 2
}