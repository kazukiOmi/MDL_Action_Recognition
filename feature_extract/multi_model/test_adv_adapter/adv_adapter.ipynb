{
 "cells": [
  {
   "cell_type": "code",
   "execution_count": 1,
   "source": [
    "from comet_ml import Experiment\n",
    "import torch"
   ],
   "outputs": [],
   "metadata": {}
  },
  {
   "cell_type": "code",
   "execution_count": 2,
   "source": [
    "import torch.nn as nn\n",
    "import torch.nn.functional as F\n",
    "from torch.utils.data import DataLoader\n",
    "from torch.utils.data.dataloader import default_collate\n",
    "from torch.utils.data import DistributedSampler, RandomSampler, SequentialSampler\n",
    "\n",
    "\n",
    "from torchvision import transforms\n",
    "\n",
    "\n",
    "from pytorchvideo.models import x3d\n",
    "from pytorchvideo.data import (\n",
    "    Ucf101, \n",
    "    RandomClipSampler, \n",
    "    UniformClipSampler, \n",
    "    Kinetics,\n",
    "    SSv2\n",
    ")\n",
    "\n",
    "\n",
    "from pytorchvideo.transforms import (\n",
    "    ApplyTransformToKey,\n",
    "    Normalize,\n",
    "    RandomShortSideScale,\n",
    "    RemoveKey,\n",
    "    ShortSideScale,\n",
    "    UniformTemporalSubsample,\n",
    ")\n",
    "from torchvision.transforms import (\n",
    "    CenterCrop,\n",
    "    Compose,\n",
    "    Lambda,\n",
    "    RandomCrop,\n",
    "    RandomHorizontalFlip,\n",
    ")\n",
    "from torchvision import datasets\n",
    "\n",
    "\n",
    "import torchinfo\n",
    "\n",
    "import numpy as np\n",
    "from tqdm.notebook import tqdm\n",
    "import itertools\n",
    "import os\n",
    "import pickle\n",
    "import random\n",
    "import matplotlib.pyplot as plt\n",
    "import shutil\n",
    "from sklearn import mixture\n",
    "from sklearn import svm\n",
    "from sklearn import decomposition\n",
    "import os.path as osp\n",
    "import argparse"
   ],
   "outputs": [],
   "metadata": {}
  },
  {
   "cell_type": "code",
   "execution_count": 3,
   "source": [
    "class Args:\n",
    "    def __init__(self):\n",
    "        self.NUM_EPOCH = 10\n",
    "        # self.FRAMES_PER_CLIP = 16\n",
    "        # self.STEP_BETWEEN_CLIPS = 16\n",
    "        self.BATCH_SIZE = 256\n",
    "        self.NUM_WORKERS = 32\n",
    "        # self.CLIP_DURATION = 16 / 25\n",
    "        # (num_frames * sampling_rate)/fps\n",
    "        # self.kinetics_clip_duration = (8 * 8) / 30\n",
    "        # self.ucf101_clip_duration = 16 / 25\n",
    "        # self.VIDEO_NUM_SUBSAMPLED = 16\n",
    "        # self.UCF101_NUM_CLASSES = 101\n",
    "        # self.KINETIC400_NUM_CLASSES = 400\n",
    "        self.mnist_num_classes = 10\n",
    "        self.svhn_num_classes = 10"
   ],
   "outputs": [],
   "metadata": {}
  },
  {
   "cell_type": "code",
   "execution_count": 4,
   "source": [
    "class MyAdversarialAdapter(nn.Module):\n",
    "    def __init__(self, dim):\n",
    "        super().__init__()\n",
    "        self.conv = nn.Conv2d(dim, dim, 1)\n",
    "\n",
    "    def forward(self, x):\n",
    "        residual = x\n",
    "        x = self.conv(x)\n",
    "        x += residual\n",
    "        return x"
   ],
   "outputs": [],
   "metadata": {}
  },
  {
   "cell_type": "code",
   "execution_count": 5,
   "source": [
    "class MyPreNet(nn.Module):\n",
    "    def __init__(self):\n",
    "        super().__init__()\n",
    "        self.layer1 = nn.Sequential(\n",
    "            nn.Conv2d(1, 32, 5, padding=2),\n",
    "            nn.MaxPool2d(2, 2),\n",
    "            nn.ReLU(),\n",
    "        )\n",
    "        self.layer2 = nn.Sequential(\n",
    "            nn.Conv2d(32, 64, 5, padding=2),\n",
    "            nn.MaxPool2d(2, 2),\n",
    "            nn.ReLU(),\n",
    "        )\n",
    "        self.fc = nn.Linear(7*7*64, 256)\n",
    "        self.dropout = nn.Dropout2d()\n",
    "        self.svhn_head = nn.Linear(256, 10)\n",
    "\n",
    "    def forward(self, x):\n",
    "        x = self.layer1(x)\n",
    "        x = self.layer2(x)\n",
    "        x = x.view(-1, 7*7*64)\n",
    "        x = F.relu(self.fc(x))\n",
    "        x = self.dropout(x)\n",
    "        x = self.svhn_head(x)\n",
    "        return x"
   ],
   "outputs": [],
   "metadata": {}
  },
  {
   "cell_type": "code",
   "execution_count": 6,
   "source": [
    "class MyNet(nn.Module):\n",
    "    def __init__(self):\n",
    "        super().__init__()\n",
    "        model_path = \"SVHN/pretrain_best1.pth\"\n",
    "        base_model = MyPreNet()\n",
    "        base_model.load_state_dict(torch.load(model_path))\n",
    "\n",
    "        self.layer1 = base_model.layer1\n",
    "        self.layer2 = base_model.layer2\n",
    "        self.adapter = MyAdversarialAdapter(64)\n",
    "        self.fc = base_model.fc\n",
    "        self.dropout = base_model.dropout\n",
    "        self.svhn_head = base_model.svhn_head\n",
    "        self.mnist_head = nn.Linear(256, 10)\n",
    "\n",
    "        # 学習させるパラメータ名\n",
    "        self.update_param_names = [\"adapter.conv.weight\", \"adapter.conv.bias\",\n",
    "                                   \"mnist_head.weight\", \"mnist_head.bias\"]\n",
    "        # 学習させるパラメータ以外は勾配計算をなくし、変化しないように設定\n",
    "        for name, param in self.named_parameters():\n",
    "            if name in self.update_param_names:\n",
    "                param.requires_grad = True\n",
    "                # print(name)\n",
    "            else:\n",
    "                param.requires_grad = False\n",
    "\n",
    "    def forward(self, x, domain):\n",
    "        x = self.layer1(x)\n",
    "        x = self.layer2(x)\n",
    "\n",
    "        feat_in = x\n",
    "        if domain == \"MNIST\":\n",
    "            x = self.adapter(x)\n",
    "        feat_out = x\n",
    "\n",
    "        x = x.view(-1, 7*7*64)\n",
    "        x = F.relu(self.fc(x))\n",
    "        x = self.dropout(x)\n",
    "        if domain == \"SVHN\":\n",
    "            x = self.svhn_head(x)\n",
    "        elif domain == \"MNIST\":\n",
    "            x = self.mnist_head(x)\n",
    "        \n",
    "        return x, feat_in.detach(), feat_out\n",
    "\n",
    "    ## torchinfo用\n",
    "    # def forward(self, x):\n",
    "    #     x = self.layer1(x)\n",
    "    #     x = self.layer2(x)\n",
    "    #     x = self.adapter(x)\n",
    "    #     x = x.view(-1, 7*7*64)\n",
    "    #     x = F.relu(self.fc(x))\n",
    "    #     x = self.dropout(x)\n",
    "    #     x = self.mnist_head(x)\n",
    "        \n",
    "    #     return x\n"
   ],
   "outputs": [],
   "metadata": {}
  },
  {
   "cell_type": "code",
   "execution_count": 41,
   "source": [
    "# class MyDiscriminator(nn.Module):\n",
    "#     def __init__(self, ch, h, w, dim):\n",
    "#         super().__init__()\n",
    "#         self.ch = ch\n",
    "#         self.w = w\n",
    "#         self.h = h\n",
    "#         self.layers = nn.Sequential(\n",
    "#             nn.Linear(h*w*ch, dim),\n",
    "#             nn.ReLU(),\n",
    "#             nn.Linear(dim, 2),\n",
    "#         )\n",
    "#         self.log_softmax = nn.LogSoftmax(dim=1)\n",
    "\n",
    "#     def forward(self, x):\n",
    "#         x = x.view(-1, 7*7*64)\n",
    "#         x = self.layers(x)\n",
    "#         x = self.log_softmax(x)\n",
    "#         return x\n"
   ],
   "outputs": [],
   "metadata": {}
  },
  {
   "cell_type": "code",
   "execution_count": 43,
   "source": [
    "class MyDiscriminator(nn.Module):\n",
    "    def __init__(self, ch, h, w):\n",
    "        super().__init__()\n",
    "        self.ch = ch\n",
    "        self.w = w\n",
    "        self.h = h\n",
    "        self.global_max_pool = nn.MaxPool2d(h, w)\n",
    "        self.layers = nn.Sequential(\n",
    "            nn.Linear(ch, 2)\n",
    "        )\n",
    "        self.log_softmax = nn.LogSoftmax(dim=1)\n",
    "\n",
    "    def forward(self, x):\n",
    "        x = self.global_max_pool(x)\n",
    "        x = x.view(-1, 64)\n",
    "        x = self.layers(x)\n",
    "        x = self.log_softmax(x)\n",
    "        return x\n"
   ],
   "outputs": [],
   "metadata": {}
  },
  {
   "cell_type": "code",
   "execution_count": 44,
   "source": [
    "# test_net = MyNet()\n",
    "\n",
    "# torchinfo.summary(\n",
    "#     test_net,\n",
    "#     input_size=(1,1,28,28),\n",
    "#     depth=4,\n",
    "#     col_names=[\"input_size\",\n",
    "#                \"output_size\"],\n",
    "#     row_settings=(\"var_names\",)\n",
    "# )\n",
    "\n",
    "\n",
    "\n",
    "test_net = MyDiscriminator(ch=64, h=7, w=7)\n",
    "\n",
    "torchinfo.summary(\n",
    "    test_net,\n",
    "    input_size=(1, 64, 7, 7),\n",
    "    depth=4,\n",
    "    col_names=[\"input_size\",\n",
    "               \"output_size\"],\n",
    "    row_settings=(\"var_names\",)\n",
    ")"
   ],
   "outputs": [
    {
     "output_type": "execute_result",
     "data": {
      "text/plain": [
       "==========================================================================================\n",
       "Layer (type (var_name))                  Input Shape               Output Shape\n",
       "==========================================================================================\n",
       "MyDiscriminator                          --                        --\n",
       "├─MaxPool2d (global_max_pool)            [1, 64, 7, 7]             [1, 64, 1, 1]\n",
       "├─Sequential (layers)                    [1, 64]                   [1, 2]\n",
       "│    └─Linear (0)                        [1, 64]                   [1, 2]\n",
       "├─LogSoftmax (log_softmax)               [1, 2]                    [1, 2]\n",
       "==========================================================================================\n",
       "Total params: 130\n",
       "Trainable params: 130\n",
       "Non-trainable params: 0\n",
       "Total mult-adds (M): 0.00\n",
       "==========================================================================================\n",
       "Input size (MB): 0.01\n",
       "Forward/backward pass size (MB): 0.00\n",
       "Params size (MB): 0.00\n",
       "Estimated Total Size (MB): 0.01\n",
       "=========================================================================================="
      ]
     },
     "metadata": {},
     "execution_count": 44
    }
   ],
   "metadata": {}
  },
  {
   "cell_type": "code",
   "execution_count": 9,
   "source": [
    "def get_mnist(subset):\n",
    "    is_train = True if subset ==\"train\" else False\n",
    "    transform = transforms.Compose([\n",
    "        transforms.Resize(28),\n",
    "        transforms.ToTensor(),\n",
    "        transforms.Normalize(\n",
    "            mean=0.5, std=0.5)])\n",
    "            \n",
    "    dataset = datasets.MNIST(\n",
    "        root=\"/mnt/dataset/MNIST\",\n",
    "        train=is_train,\n",
    "        transform=transform,\n",
    "        download=True\n",
    "    )\n",
    "    return dataset"
   ],
   "outputs": [],
   "metadata": {}
  },
  {
   "cell_type": "code",
   "execution_count": 10,
   "source": [
    "def get_svhn(subset):\n",
    "    train = \"train\" if subset ==\"train\" else \"test\"\n",
    "    transform = transforms.Compose([\n",
    "        transforms.Resize(28),\n",
    "        transforms.ToTensor(),\n",
    "        transforms.Grayscale(),\n",
    "        transforms.Normalize(\n",
    "            mean=0.5, std=0.5)])\n",
    "            \n",
    "    dataset = datasets.SVHN(\n",
    "        root=\"/mnt/dataset/SVHN\",\n",
    "        split=train,\n",
    "        transform=transform,\n",
    "        download=True\n",
    "    )\n",
    "    return dataset"
   ],
   "outputs": [],
   "metadata": {}
  },
  {
   "cell_type": "code",
   "execution_count": 11,
   "source": [
    "def make_loader(dataset):\n",
    "    args = Args()\n",
    "    loader = DataLoader(dataset,\n",
    "                        batch_size=args.BATCH_SIZE,\n",
    "                        drop_last=True,\n",
    "                        num_workers=args.NUM_WORKERS,\n",
    "                        shuffle=True)\n",
    "    return loader"
   ],
   "outputs": [],
   "metadata": {}
  },
  {
   "cell_type": "code",
   "execution_count": 12,
   "source": [
    "# mnist_train_data = get_mnist(\"train\")\n",
    "# print(len(mnist_train_data))\n",
    "# mnist_train_loader = make_loader(mnist_train_data)\n",
    "# print(len(mnist_train_loader))\n",
    "\n",
    "# svhn_train_data = get_svhn(\"train\")\n",
    "# print(len(svhn_train_data))\n",
    "# svhn_train_loader = make_loader(svhn_train_data)\n",
    "# print(len(svhn_train_loader))\n",
    "\n",
    "# mnist_val_data = get_mnist(\"val\")\n",
    "# print(len(mnist_val_data))\n",
    "# mnist_val_loader = make_loader(mnist_val_data)\n",
    "# print(len(mnist_val_loader))\n",
    "\n",
    "# svhn_val_data = get_svhn(\"val\")\n",
    "# print(len(svhn_val_data))\n",
    "# svhn_val_loader = make_loader(svhn_val_data)\n",
    "# print(len(svhn_val_loader))"
   ],
   "outputs": [],
   "metadata": {}
  },
  {
   "cell_type": "code",
   "execution_count": 13,
   "source": [
    "class AverageMeter(object):\n",
    "    \"\"\"\n",
    "    Computes and stores the average and current value\n",
    "    Imported from https://github.com/pytorch/examples/blob/master/imagenet/main.py#L247-L262\n",
    "    https://github.com/machine-perception-robotics-group/attention_branch_network/blob/ced1d97303792ac6d56442571d71bb0572b3efd8/utils/misc.py#L59\n",
    "    \"\"\"\n",
    "\n",
    "    def __init__(self):\n",
    "        self.reset()\n",
    "\n",
    "    def reset(self):\n",
    "        self.val = 0\n",
    "        self.avg = 0\n",
    "        self.sum = 0\n",
    "        self.count = 0\n",
    "\n",
    "    def update(self, val, n=1):\n",
    "        if isinstance(val, torch.Tensor):\n",
    "            val = val.item()\n",
    "        self.val = val\n",
    "        self.sum += val * n\n",
    "        self.count += n\n",
    "        self.avg = self.sum / self.count\n",
    "\n",
    "\n",
    "def top1(outputs, targets):\n",
    "    batch_size = outputs.size(0)\n",
    "    _, predicted = outputs.max(1)\n",
    "    return predicted.eq(targets).sum().item() / batch_size\n",
    "\n"
   ],
   "outputs": [],
   "metadata": {}
  },
  {
   "cell_type": "code",
   "execution_count": 14,
   "source": [
    "import os.path as osp\n",
    "import shutil\n",
    "\n",
    "def save_checkpoint(state, is_best, filename, best_model_file, dir_data_name):\n",
    "    file_path = osp.join(dir_data_name, filename)\n",
    "    if not os.path.exists(dir_data_name):\n",
    "        os.makedirs(dir_data_name)\n",
    "    torch.save(state.state_dict(), file_path)\n",
    "    if is_best:\n",
    "        shutil.copyfile(file_path, osp.join(dir_data_name, best_model_file))"
   ],
   "outputs": [],
   "metadata": {}
  },
  {
   "cell_type": "code",
   "execution_count": 15,
   "source": [
    "def pre_train():\n",
    "    args = Args()\n",
    "    device = torch.device(\"cuda:1\" if torch.cuda.is_available() else \"cpu\")\n",
    "\n",
    "    # train_data_mnist = get_mnist(\"train\")\n",
    "    # train_loader_mnist = make_loader(train_data_mnist)\n",
    "    # val_data_mnist = get_mnist(\"val\")\n",
    "    # val_loader_mnist = make_loader(val_data_mnist)\n",
    "\n",
    "    train_data_svhn = get_svhn(\"train\")\n",
    "    train_loader_svhn = make_loader(train_data_svhn)\n",
    "    val_data_svhn = get_svhn(\"val\")\n",
    "    val_loader_svhn = make_loader(val_data_svhn)\n",
    "\n",
    "    model = MyPreNet()\n",
    "    model = model.to(device)\n",
    "    # model = torch.nn.DataParallel(model)\n",
    "    torch.backends.cudnn.benchmark = True\n",
    "\n",
    "    lr = 0.001\n",
    "    weight_decay = 5e-5\n",
    "    # optimizer = torch.optim.SGD(\n",
    "    #     model.parameters(),\n",
    "    #     lr=lr,\n",
    "    #     momentum=0.9,\n",
    "    #     weight_decay=5e-4)\n",
    "    optimizer = torch.optim.Adam(\n",
    "        model.parameters(),\n",
    "        lr=lr,\n",
    "        betas=(0.9, 0.999),\n",
    "        weight_decay=weight_decay)\n",
    "    criterion = nn.CrossEntropyLoss()\n",
    "\n",
    "    hyper_params = {\n",
    "        \"Dataset\": \"SVHN\",\n",
    "        \"epoch\": args.NUM_EPOCH,\n",
    "        \"batch_size\": args.BATCH_SIZE,\n",
    "        \"optimizer\": \"Adam(0.9, 0.999)\",\n",
    "        \"learning late\": lr,\n",
    "        \"weight decay\": weight_decay,\n",
    "        \"mode\": \"pre train\",\n",
    "    }\n",
    "\n",
    "    experiment = Experiment(\n",
    "        api_key=\"TawRAwNJiQjPaSMvBAwk4L4pF\",\n",
    "        project_name=\"feeature-extract\",\n",
    "        workspace=\"kazukiomi\",\n",
    "    )\n",
    "\n",
    "    experiment.add_tag('pytorch')\n",
    "    experiment.log_parameters(hyper_params)\n",
    "\n",
    "    num_epochs = args.NUM_EPOCH\n",
    "\n",
    "    step = 0\n",
    "    best_acc = 0\n",
    "\n",
    "    with tqdm(range(num_epochs)) as pbar_epoch:\n",
    "        for epoch in pbar_epoch:\n",
    "            pbar_epoch.set_description(\"[Epoch %d]\" % (epoch))\n",
    "\n",
    "            \"\"\"Training mode\"\"\"\n",
    "            model.train()\n",
    "            train_loss_svhn = AverageMeter()\n",
    "            train_acc_svhn = AverageMeter()\n",
    "\n",
    "            with tqdm(enumerate(train_loader_svhn),\n",
    "                      total=len(train_loader_svhn),\n",
    "                      leave=True) as pbar_train_batch:\n",
    "\n",
    "                model.train()\n",
    "\n",
    "                for batch_idx, (inputs, labels) in pbar_train_batch:\n",
    "                    pbar_train_batch.set_description(\n",
    "                        \"[Epoch :{}]\".format(epoch))\n",
    "\n",
    "                    inputs = inputs.to(device)\n",
    "                    labels = labels.to(device)\n",
    "\n",
    "                    bs_svhn = inputs.size(0)\n",
    "\n",
    "                    optimizer.zero_grad()\n",
    "                    outputs = model(inputs)\n",
    "                    loss_svhn = criterion(outputs, labels)\n",
    "                    loss_svhn.backward()\n",
    "                    optimizer.step()\n",
    "\n",
    "                    train_loss_svhn.update(loss_svhn, bs_svhn)\n",
    "                    train_acc_svhn.update(top1(outputs, labels), bs_svhn)\n",
    "                    \n",
    "                    pbar_train_batch.set_postfix_str(\n",
    "                        ' | batch_loss_svhn={:6.04f} , batch_top1_svhn={:6.04f}'\n",
    "                        ''.format(\n",
    "                            train_loss_svhn.val, train_acc_svhn.val,\n",
    "                        ))\n",
    "\n",
    "                    experiment.log_metric(\n",
    "                        \"batch_accuracy_svhn\", train_acc_svhn.val, step=step)\n",
    "                    experiment.log_metric(\n",
    "                        \"batch_loss_svhn\", train_loss_svhn.val, step=step)\n",
    "                    step += 1\n",
    "\n",
    "            \"\"\"Val mode\"\"\"\n",
    "            model.eval()\n",
    "            val_loss_svhn = AverageMeter()\n",
    "            val_acc_svhn = AverageMeter()\n",
    "\n",
    "            with torch.no_grad():\n",
    "                for batch_idx, (inputs, labels) in enumerate(val_loader_svhn):\n",
    "                    inputs = inputs.to(device)\n",
    "                    labels = labels.to(device)\n",
    "\n",
    "                    bs = inputs.size(0)\n",
    "\n",
    "                    val_outputs = model(inputs)\n",
    "                    loss = criterion(val_outputs, labels)\n",
    "\n",
    "                    val_loss_svhn.update(loss, bs)\n",
    "                    val_acc_svhn.update(top1(val_outputs, labels), bs)\n",
    "            \"\"\"finish Val mode\"\"\" \n",
    "\n",
    "            \"\"\"save model\"\"\"\n",
    "            if best_acc < val_acc_svhn.avg:\n",
    "                best_acc = val_acc_svhn.avg\n",
    "                is_best = True\n",
    "            else:\n",
    "                is_best = False\n",
    "            \n",
    "            save_checkpoint(model, is_best, filename=\"pretrain_checkpoint.pth\", best_model_file=\"pretrain_best.pth\", dir_data_name=\"SVHN\")\n",
    "        \n",
    "            pbar_epoch.set_postfix_str(\n",
    "                ' train_loss={:6.04f} , val_loss={:6.04f}, train_acc={:6.04f}, val_acc={:6.04f}'\n",
    "                ''.format(\n",
    "                    train_loss_svhn.avg,\n",
    "                    val_loss_svhn.avg,\n",
    "                    train_acc_svhn.avg,\n",
    "                    val_acc_svhn.avg)\n",
    "            )\n",
    "\n",
    "            experiment.log_metric(\"epoch_train_accuracy\",\n",
    "                                  train_acc_svhn.avg,\n",
    "                                  step=epoch + 1)\n",
    "            experiment.log_metric(\"epoch_train_loss\",\n",
    "                                  train_loss_svhn.avg,\n",
    "                                  step=epoch + 1)\n",
    "            experiment.log_metric(\"val_accuracy\",\n",
    "                                  val_acc_svhn.avg,\n",
    "                                  step=epoch + 1)\n",
    "            experiment.log_metric(\"val_loss\",\n",
    "                                  val_loss_svhn.avg,\n",
    "                                  step=epoch + 1)\n",
    "\n",
    "                \n",
    "\n",
    "    experiment.end()\n"
   ],
   "outputs": [],
   "metadata": {}
  },
  {
   "cell_type": "code",
   "execution_count": 16,
   "source": [
    "# pre_train()"
   ],
   "outputs": [],
   "metadata": {}
  },
  {
   "cell_type": "code",
   "execution_count": 17,
   "source": [
    "# test prepare domain labels\n",
    "# svhn_labels = torch.full((10,), 0, device=\"cuda\")\n",
    "# print(svhn_labels)\n",
    "# mnist_labels = torch.full((10,), 1, device=\"cuda\")\n",
    "# print(svhn_labels)\n",
    "# labels = torch.cat((svhn_labels, mnist_labels), 0)\n",
    "# print(labels)"
   ],
   "outputs": [],
   "metadata": {}
  },
  {
   "cell_type": "code",
   "execution_count": 20,
   "source": [
    "def adv_adapter_train():\n",
    "    args = Args()\n",
    "    device = torch.device(\"cuda:1\" if torch.cuda.is_available() else \"cpu\")\n",
    "\n",
    "    train_data_mnist = get_mnist(\"train\")\n",
    "    train_loader_mnist = make_loader(train_data_mnist)\n",
    "    val_data_mnist = get_mnist(\"val\")\n",
    "    val_loader_mnist = make_loader(val_data_mnist)\n",
    "\n",
    "    train_data_svhn = get_svhn(\"train\")\n",
    "    train_loader_svhn = make_loader(train_data_svhn)\n",
    "   \n",
    "    model = MyNet()\n",
    "    model = model.to(device)\n",
    "    discriminator = MyDiscriminator(ch=64, h=7, w=7)\n",
    "    discriminator = discriminator.to(device)\n",
    "    torch.backends.cudnn.benchmark = True\n",
    "    loss_lambda = 1\n",
    "    lr = 0.001\n",
    "    weight_decay = 5e-5\n",
    "    optimizer = torch.optim.Adam(\n",
    "        model.parameters(),\n",
    "        lr=lr,\n",
    "        betas=(0.9, 0.999),\n",
    "        weight_decay=weight_decay)\n",
    "\n",
    "    optimizer_dis = torch.optim.Adam(\n",
    "        discriminator.parameters(),\n",
    "        lr=lr,\n",
    "        betas=(0.9, 0.999),\n",
    "        weight_decay=weight_decay)\n",
    "\n",
    "    criterion = nn.CrossEntropyLoss()\n",
    "    adv_loss = nn.CrossEntropyLoss()\n",
    "\n",
    "    hyper_params = {\n",
    "        \"Dataset\": \"MNIST, SVHN\",\n",
    "        \"epoch\": args.NUM_EPOCH,\n",
    "        \"batch_size\": args.BATCH_SIZE,\n",
    "        \"optimizer\": \"Adam(0.9, 0.999)\",\n",
    "        \"learning late\": lr,\n",
    "        \"weight decay\": weight_decay,\n",
    "        \"mode\": \"training adv_adapter\",\n",
    "        \"adversarial loss λ\" : loss_lambda,\n",
    "    }\n",
    "\n",
    "    experiment = Experiment(\n",
    "        api_key=\"TawRAwNJiQjPaSMvBAwk4L4pF\",\n",
    "        project_name=\"feeature-extract\",\n",
    "        workspace=\"kazukiomi\",\n",
    "    )\n",
    "\n",
    "    experiment.add_tag('pytorch')\n",
    "    experiment.log_parameters(hyper_params)\n",
    "\n",
    "    num_epochs = args.NUM_EPOCH\n",
    "    iteration_mnist = len(train_loader_mnist) - 1\n",
    "    train_mnist_enm = enumerate(train_loader_mnist)\n",
    "\n",
    "    step = 0\n",
    "    best_acc = 0\n",
    "\n",
    "    with tqdm(range(num_epochs)) as pbar_epoch:\n",
    "        for epoch in pbar_epoch:\n",
    "            pbar_epoch.set_description(\"[Epoch %d]\" % (epoch))\n",
    "\n",
    "            \"\"\"Training mode\"\"\"\n",
    "\n",
    "            train_dis_loss_0 = AverageMeter() # after train dis\n",
    "            train_dis_loss_1 = AverageMeter() # after train adp\n",
    "            train_dis_acc_0 = AverageMeter() # after train dis\n",
    "            train_dis_acc_1 = AverageMeter() # after train adp\n",
    "            train_loss_mnist = AverageMeter()\n",
    "            train_acc_mnist = AverageMeter()\n",
    "\n",
    "            with tqdm(enumerate(train_loader_svhn),\n",
    "                      total=len(train_loader_svhn),\n",
    "                      leave=True) as pbar_train_batch:\n",
    "\n",
    "                model.train()\n",
    "                discriminator.train()\n",
    "\n",
    "                for batch_idx, (inputs, labels) in pbar_train_batch:\n",
    "                    pbar_train_batch.set_description(\n",
    "                        \"[Epoch :{}]\".format(epoch))\n",
    "\n",
    "                    \"\"\"train discriminator\"\"\"\n",
    "\n",
    "                    optimizer_dis.zero_grad()\n",
    "\n",
    "                    inputs = inputs.to(device)\n",
    "                    bs_svhn = inputs.size(0)\n",
    "\n",
    "                    svhn_feat_labels = torch.full((bs_svhn,), 0, device=device)\n",
    "                    _, svhn_feat, _ = model(inputs.detach(), \"SVHN\")\n",
    "                    \n",
    "                    i, (inputs, labels) = train_mnist_enm.__next__()\n",
    "                    if i+1 > iteration_mnist:\n",
    "                        train_mnist_enm = enumerate(train_loader_mnist)\n",
    "                    inputs = inputs.to(device)\n",
    "                    labels = labels.to(device)\n",
    "                    bs_mnist = inputs.size(0)\n",
    "\n",
    "                    mnist_feat_labels = torch.full((bs_svhn,), 1, device=device)\n",
    "                    _, _, mnist_feat = model(inputs.detach(), \"MNIST\")\n",
    "                    \n",
    "                    feat_labels = torch.cat((svhn_feat_labels, mnist_feat_labels), 0)\n",
    "                    feat = torch.cat((svhn_feat, mnist_feat), 0)\n",
    "\n",
    "                    dis_outputs = discriminator(feat)\n",
    "                    dis_loss = adv_loss(dis_outputs, feat_labels)\n",
    "                    \n",
    "                    dis_loss.backward()\n",
    "                    optimizer_dis.step()\n",
    "\n",
    "                    train_dis_loss_0.update(dis_loss, bs_svhn+bs_mnist)\n",
    "                    train_dis_acc_0.update(top1(dis_outputs, feat_labels), bs_svhn+bs_mnist)\n",
    "\n",
    "                    \"\"\"train adapter\"\"\"\n",
    "\n",
    "                    optimizer.zero_grad()\n",
    "\n",
    "                    fake_mnist_feat_labels = torch.full((bs_mnist,), 0, device=device)\n",
    "                    fake_feat_labels = torch.cat((svhn_feat_labels, fake_mnist_feat_labels), 0)\n",
    "\n",
    "                    outputs, _, mnist_feat = model(inputs, \"MNIST\")\n",
    "                    feat = torch.cat((svhn_feat, mnist_feat), 0)\n",
    "\n",
    "                    loss_mnist = criterion(outputs, labels)\n",
    "                    loss_mnist.backward(retain_graph=True)\n",
    "\n",
    "                    dis_outputs = discriminator(feat)\n",
    "                    dis_fake_loss = adv_loss(dis_outputs, fake_feat_labels) * loss_lambda\n",
    "                    dis_fake_loss.backward()\n",
    "                    optimizer.step()\n",
    "\n",
    "                    dis_real_loss = adv_loss(dis_outputs.detach(), feat_labels)\n",
    "\n",
    "                    train_loss_mnist.update(loss_mnist, bs_mnist)\n",
    "                    train_acc_mnist.update(top1(outputs, labels), bs_mnist)\n",
    "                    train_dis_loss_1.update(dis_real_loss, bs_mnist)\n",
    "                    train_dis_acc_1.update(top1(dis_outputs, feat_labels), bs_mnist)\n",
    "\n",
    "                    pbar_train_batch.set_postfix_str(\n",
    "                        ' | dis_loss_af_dis={:6.04f} , dis_acc_af_dis={:6.04f}'\n",
    "                        ' | loss_mnist={:6.04f} , acc_mnist={:6.04f}'\n",
    "                        ' | dis_loss_af_adp={:6.04f} , dis_acc_af_adp={:6.04f}'\n",
    "                        ''.format(\n",
    "                            train_dis_loss_0.val, train_dis_acc_0.val,\n",
    "                            train_loss_mnist.val, train_acc_mnist.val,\n",
    "                            train_dis_loss_1.val, train_dis_acc_1.val,\n",
    "                        ))\n",
    "\n",
    "                    experiment.log_metric(\n",
    "                        \"batch_dis_loss_af_dis\", train_dis_loss_0.val, step=step)\n",
    "                    experiment.log_metric(\n",
    "                        \"batch_dis_acc_af_dis\", train_dis_acc_0.val, step=step)\n",
    "                    experiment.log_metric(\n",
    "                        \"batch_accuracy_mnist\", train_acc_mnist.val, step=step)\n",
    "                    experiment.log_metric(\n",
    "                        \"batch_loss_mnist\", train_loss_mnist.val, step=step)\n",
    "                    experiment.log_metric(\n",
    "                        \"batch_dis_loss_af_adp\", train_dis_loss_1.val, step=step)\n",
    "                    experiment.log_metric(\n",
    "                        \"batch_dis_acc_af_adp\", train_dis_acc_1.val, step=step)\n",
    "                    step += 1\n",
    "\n",
    "            experiment.log_metric(\n",
    "                \"train_accuracy_mnist\", train_acc_mnist.avg, step=step)\n",
    "            experiment.log_metric(\n",
    "                \"train_loss_mnist\", train_loss_mnist.avg, step=step)\n",
    "\n",
    "\n",
    "            \"\"\"Val mode\"\"\"\n",
    "            model.eval()\n",
    "            discriminator.eval()\n",
    "\n",
    "            val_loss_mnist = AverageMeter()\n",
    "            val_acc_mnist = AverageMeter()\n",
    "            val_dis_loss = AverageMeter()\n",
    "            val_dis_acc = AverageMeter()\n",
    "\n",
    "            with torch.no_grad():\n",
    "                for batch_idx, (inputs, labels) in enumerate(val_loader_mnist):\n",
    "                    inputs = inputs.to(device)\n",
    "                    labels = labels.to(device)\n",
    "\n",
    "                    bs = inputs.size(0)\n",
    "                    mnist_feat_labels = torch.full((bs,), 1, device=device)\n",
    "\n",
    "                    val_outputs, _, val_feature = model(inputs, \"MNIST\")\n",
    "                    val_dis_outputs = discriminator(val_feature)\n",
    "                    loss = criterion(val_outputs, labels)\n",
    "                    dis_loss = adv_loss(val_dis_outputs, mnist_feat_labels)\n",
    "\n",
    "                    val_loss_mnist.update(loss, bs)\n",
    "                    val_acc_mnist.update(top1(val_outputs, labels), bs)\n",
    "                    val_dis_loss.update(dis_loss, bs)\n",
    "                    val_dis_acc.update(top1(val_dis_outputs, mnist_feat_labels), bs)\n",
    "\n",
    "            experiment.log_metric(\n",
    "                \"val_accuracy_mnist\", val_acc_mnist.avg, step=step)\n",
    "            experiment.log_metric(\n",
    "                \"val_loss_mnist\", val_loss_mnist.avg, step=step)\n",
    "            experiment.log_metric(\n",
    "                \"val_dis_loss\", val_dis_loss.val, step=step)\n",
    "            experiment.log_metric(\n",
    "                \"val_dis_acc\", val_dis_acc.val, step=step)\n",
    "\n",
    "            \"\"\"finish Val mode\"\"\"\n",
    "\n",
    "    experiment.end()\n"
   ],
   "outputs": [],
   "metadata": {}
  },
  {
   "cell_type": "code",
   "execution_count": 21,
   "source": [
    "adv_adapter_train()"
   ],
   "outputs": [
    {
     "output_type": "stream",
     "name": "stdout",
     "text": [
      "Using downloaded and verified file: /mnt/dataset/SVHN/train_32x32.mat\n"
     ]
    },
    {
     "output_type": "stream",
     "name": "stderr",
     "text": [
      "COMET WARNING: As you are running in a Jupyter environment, you will need to call `experiment.end()` when finished to ensure all metrics and code are logged before exiting.\n",
      "COMET INFO: Experiment is live on comet.ml https://www.comet.ml/kazukiomi/feeature-extract/534ee161585441ed9ae62071e985aa65\n",
      "\n"
     ]
    },
    {
     "output_type": "display_data",
     "data": {
      "application/vnd.jupyter.widget-view+json": {
       "version_major": 2,
       "version_minor": 0,
       "model_id": "62bb662123d845a1a2510833350cb4b6"
      },
      "text/plain": [
       "HBox(children=(HTML(value=''), FloatProgress(value=0.0, max=10.0), HTML(value='')))"
      ]
     },
     "metadata": {}
    },
    {
     "output_type": "display_data",
     "data": {
      "application/vnd.jupyter.widget-view+json": {
       "version_major": 2,
       "version_minor": 0,
       "model_id": "7efb2c71750d4068aa9af5f74a781647"
      },
      "text/plain": [
       "HBox(children=(HTML(value=''), FloatProgress(value=0.0, max=286.0), HTML(value='')))"
      ]
     },
     "metadata": {}
    },
    {
     "output_type": "stream",
     "name": "stdout",
     "text": [
      "\n"
     ]
    },
    {
     "output_type": "display_data",
     "data": {
      "application/vnd.jupyter.widget-view+json": {
       "version_major": 2,
       "version_minor": 0,
       "model_id": "9c9901f23b1a49c1a89025a8743a8ebd"
      },
      "text/plain": [
       "HBox(children=(HTML(value=''), FloatProgress(value=0.0, max=286.0), HTML(value='')))"
      ]
     },
     "metadata": {}
    },
    {
     "output_type": "stream",
     "name": "stdout",
     "text": [
      "\n"
     ]
    },
    {
     "output_type": "display_data",
     "data": {
      "application/vnd.jupyter.widget-view+json": {
       "version_major": 2,
       "version_minor": 0,
       "model_id": "3d438d387e6444cca408628dc26a1784"
      },
      "text/plain": [
       "HBox(children=(HTML(value=''), FloatProgress(value=0.0, max=286.0), HTML(value='')))"
      ]
     },
     "metadata": {}
    },
    {
     "output_type": "stream",
     "name": "stdout",
     "text": [
      "\n"
     ]
    },
    {
     "output_type": "display_data",
     "data": {
      "application/vnd.jupyter.widget-view+json": {
       "version_major": 2,
       "version_minor": 0,
       "model_id": "64ec271a3c374925afb1e98fb6008bd1"
      },
      "text/plain": [
       "HBox(children=(HTML(value=''), FloatProgress(value=0.0, max=286.0), HTML(value='')))"
      ]
     },
     "metadata": {}
    },
    {
     "output_type": "stream",
     "name": "stdout",
     "text": [
      "\n"
     ]
    },
    {
     "output_type": "display_data",
     "data": {
      "application/vnd.jupyter.widget-view+json": {
       "version_major": 2,
       "version_minor": 0,
       "model_id": "edb66b9495cf4d7a9835718694dea0f9"
      },
      "text/plain": [
       "HBox(children=(HTML(value=''), FloatProgress(value=0.0, max=286.0), HTML(value='')))"
      ]
     },
     "metadata": {}
    },
    {
     "output_type": "stream",
     "name": "stdout",
     "text": [
      "\n"
     ]
    },
    {
     "output_type": "display_data",
     "data": {
      "application/vnd.jupyter.widget-view+json": {
       "version_major": 2,
       "version_minor": 0,
       "model_id": "f272c46566054b9cb7fae436a2e6c92d"
      },
      "text/plain": [
       "HBox(children=(HTML(value=''), FloatProgress(value=0.0, max=286.0), HTML(value='')))"
      ]
     },
     "metadata": {}
    },
    {
     "output_type": "stream",
     "name": "stdout",
     "text": [
      "\n"
     ]
    },
    {
     "output_type": "display_data",
     "data": {
      "application/vnd.jupyter.widget-view+json": {
       "version_major": 2,
       "version_minor": 0,
       "model_id": "458667f19a8145b0ab15a5a06d075709"
      },
      "text/plain": [
       "HBox(children=(HTML(value=''), FloatProgress(value=0.0, max=286.0), HTML(value='')))"
      ]
     },
     "metadata": {}
    },
    {
     "output_type": "stream",
     "name": "stdout",
     "text": [
      "\n"
     ]
    },
    {
     "output_type": "display_data",
     "data": {
      "application/vnd.jupyter.widget-view+json": {
       "version_major": 2,
       "version_minor": 0,
       "model_id": "7d90e6658af2466c9d9cc07e4c9108ac"
      },
      "text/plain": [
       "HBox(children=(HTML(value=''), FloatProgress(value=0.0, max=286.0), HTML(value='')))"
      ]
     },
     "metadata": {}
    },
    {
     "output_type": "stream",
     "name": "stdout",
     "text": [
      "\n"
     ]
    },
    {
     "output_type": "display_data",
     "data": {
      "application/vnd.jupyter.widget-view+json": {
       "version_major": 2,
       "version_minor": 0,
       "model_id": "a0cd8141f96a4407b0c3fa31d95469f1"
      },
      "text/plain": [
       "HBox(children=(HTML(value=''), FloatProgress(value=0.0, max=286.0), HTML(value='')))"
      ]
     },
     "metadata": {}
    },
    {
     "output_type": "stream",
     "name": "stdout",
     "text": [
      "\n"
     ]
    },
    {
     "output_type": "display_data",
     "data": {
      "application/vnd.jupyter.widget-view+json": {
       "version_major": 2,
       "version_minor": 0,
       "model_id": "9228a6e624374a9d97cf35bac6f2af55"
      },
      "text/plain": [
       "HBox(children=(HTML(value=''), FloatProgress(value=0.0, max=286.0), HTML(value='')))"
      ]
     },
     "metadata": {}
    },
    {
     "output_type": "stream",
     "name": "stdout",
     "text": [
      "\n"
     ]
    },
    {
     "output_type": "stream",
     "name": "stderr",
     "text": [
      "COMET INFO: ---------------------------\n",
      "COMET INFO: Comet.ml Experiment Summary\n",
      "COMET INFO: ---------------------------\n",
      "COMET INFO:   Data:\n",
      "COMET INFO:     display_summary_level : 1\n",
      "COMET INFO:     url                   : https://www.comet.ml/kazukiomi/feeature-extract/534ee161585441ed9ae62071e985aa65\n",
      "COMET INFO:   Metrics [count] (min, max):\n",
      "COMET INFO:     batch_accuracy_mnist [2860]  : (0.0859375, 0.84375)\n",
      "COMET INFO:     batch_dis_acc_af_adp [2860]  : (0.640625, 1.0)\n",
      "COMET INFO:     batch_dis_acc_af_dis [2860]  : (0.51171875, 1.0)\n",
      "COMET INFO:     batch_dis_loss_af_adp [2860] : (0.014740045182406902, 0.42306748032569885)\n",
      "COMET INFO:     batch_dis_loss_af_dis [2860] : (0.019017457962036133, 0.8822208642959595)\n",
      "COMET INFO:     batch_loss_mnist [2860]      : (0.46634915471076965, 3.4547595977783203)\n",
      "COMET INFO:     loss [857]                   : (0.028949743136763573, 38.42793655395508)\n",
      "COMET INFO:     train_accuracy_mnist [10]    : (0.6584626311188811, 0.7655293924825175)\n",
      "COMET INFO:     train_loss_mnist [10]        : (0.7291992671423025, 0.9898796014852457)\n",
      "COMET INFO:     val_accuracy_mnist [10]      : (0.8310296474358975, 0.9100560897435898)\n",
      "COMET INFO:     val_dis_acc [10]             : (0.9609375, 0.99609375)\n",
      "COMET INFO:     val_dis_loss [10]            : (0.004145352635532618, 0.19957107305526733)\n",
      "COMET INFO:     val_loss_mnist [10]          : (0.28325341909359664, 0.5596054708346342)\n",
      "COMET INFO:   Parameters:\n",
      "COMET INFO:     Dataset            : MNIST, SVHN\n",
      "COMET INFO:     adversarial loss λ : 1\n",
      "COMET INFO:     batch_size         : 256\n",
      "COMET INFO:     epoch              : 10\n",
      "COMET INFO:     learning late      : 0.001\n",
      "COMET INFO:     mode               : training adv_adapter\n",
      "COMET INFO:     optimizer          : Adam(0.9, 0.999)\n",
      "COMET INFO:     weight decay       : 5e-05\n",
      "COMET INFO:   Uploads:\n",
      "COMET INFO:     environment details      : 1\n",
      "COMET INFO:     filename                 : 1\n",
      "COMET INFO:     git metadata             : 1\n",
      "COMET INFO:     git-patch (uncompressed) : 1 (9.43 KB)\n",
      "COMET INFO:     installed packages       : 1\n",
      "COMET INFO:     notebook                 : 1\n",
      "COMET INFO:     os packages              : 1\n",
      "COMET INFO:     source_code              : 1\n",
      "COMET INFO: ---------------------------\n"
     ]
    },
    {
     "output_type": "stream",
     "name": "stdout",
     "text": [
      "\n"
     ]
    },
    {
     "output_type": "stream",
     "name": "stderr",
     "text": [
      "COMET INFO: Uploading metrics, params, and assets to Comet before program termination (may take several seconds)\n",
      "COMET INFO: The Python SDK has 3600 seconds to finish before aborting...\n"
     ]
    }
   ],
   "metadata": {}
  },
  {
   "cell_type": "code",
   "execution_count": null,
   "source": [],
   "outputs": [],
   "metadata": {}
  }
 ],
 "metadata": {
  "orig_nbformat": 4,
  "language_info": {
   "name": "python",
   "version": "3.8.8",
   "mimetype": "text/x-python",
   "codemirror_mode": {
    "name": "ipython",
    "version": 3
   },
   "pygments_lexer": "ipython3",
   "nbconvert_exporter": "python",
   "file_extension": ".py"
  },
  "kernelspec": {
   "name": "python3",
   "display_name": "Python 3.8.8 64-bit ('base': conda)"
  },
  "interpreter": {
   "hash": "98b0a9b7b4eaaa670588a142fd0a9b87eaafe866f1db4228be72b4211d12040f"
  }
 },
 "nbformat": 4,
 "nbformat_minor": 2
}