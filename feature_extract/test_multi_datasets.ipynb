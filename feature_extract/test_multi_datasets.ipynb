{
 "cells": [
  {
   "cell_type": "code",
   "execution_count": 1,
   "source": [
    "from comet_ml import Experiment\n",
    "\n",
    "import torch\n",
    "import torch.nn as nn\n",
    "import torchvision\n",
    "import torchinfo\n",
    "import pytorchvideo\n",
    "from torch.utils.data import DataLoader\n",
    "from torch.utils.data.dataloader import default_collate\n",
    "from torch.utils.data import DistributedSampler, RandomSampler\n",
    "\n",
    "from torchvision import transforms\n",
    "\n",
    "from pytorchvideo.models import x3d\n",
    "from pytorchvideo.data import (\n",
    "    Ucf101,\n",
    "    RandomClipSampler,\n",
    "    UniformClipSampler,\n",
    "    Kinetics\n",
    ")\n",
    "\n",
    "# from torchvision.transforms._transforms_video import (\n",
    "#     CenterCropVideo,\n",
    "#     NormalizeVideo,\n",
    "# )\n",
    "\n",
    "from pytorchvideo.transforms import (\n",
    "    ApplyTransformToKey,\n",
    "    Normalize,\n",
    "    RandomShortSideScale,\n",
    "    RemoveKey,\n",
    "    ShortSideScale,\n",
    "    UniformTemporalSubsample,\n",
    ")\n",
    "from torchvision.transforms import (\n",
    "    CenterCrop,\n",
    "    Compose,\n",
    "    Lambda,\n",
    "    RandomCrop,\n",
    "    RandomHorizontalFlip,\n",
    ")\n",
    "\n",
    "from tqdm import tqdm\n",
    "from collections import OrderedDict\n",
    "import itertools\n",
    "import os\n",
    "import argparse"
   ],
   "outputs": [],
   "metadata": {}
  },
  {
   "cell_type": "code",
   "execution_count": 2,
   "source": [
    "class Args:\n",
    "    def __init__(self):\n",
    "        self.metadata_path = '/mnt/NAS-TVS872XT/dataset/'\n",
    "        self.root = self.metadata_path\n",
    "        self.annotation_path = self.metadata_path\n",
    "        self.NUM_EPOCH = 4\n",
    "        self.FRAMES_PER_CLIP = 16\n",
    "        self.STEP_BETWEEN_CLIPS = 16\n",
    "        self.BATCH_SIZE = 32\n",
    "        self.NUM_WORKERS = 32\n",
    "        # self.CLIP_DURATION = 16 / 25\n",
    "        self.CLIP_DURATION = (8 * 8) / 30  # (num_frames * sampling_rate)/fps\n",
    "        self.VIDEO_NUM_SUBSAMPLED = 8\n",
    "        self.UCF101_NUM_CLASSES = 101\n",
    "        self.KINETIC400_NUM_CLASSES = 400\n"
   ],
   "outputs": [],
   "metadata": {}
  },
  {
   "cell_type": "code",
   "execution_count": 3,
   "source": [
    "class LimitDataset(torch.utils.data.Dataset):\n",
    "    def __init__(self, dataset):\n",
    "        super().__init__()\n",
    "        self.dataset = dataset\n",
    "        self.dataset_iter = itertools.chain.from_iterable(\n",
    "            itertools.repeat(iter(dataset), 2)\n",
    "        )\n",
    "        # self.num_videos = make_num_videos(self.dataset)\n",
    "        self.num_videos = len(self.dataset.video_sampler)\n",
    "\n",
    "    def __getitem__(self, index):\n",
    "        # return next(self.dataset_iter), \"kinetics\"\n",
    "        return next(self.dataset_iter)\n",
    "\n",
    "    def __len__(self):\n",
    "        return self.num_videos"
   ],
   "outputs": [],
   "metadata": {}
  },
  {
   "cell_type": "code",
   "execution_count": 4,
   "source": [
    "# class KineticsLimitDataset(torch.utils.data.Dataset):\n",
    "#     def __init__(self, dataset):\n",
    "#         super().__init__()\n",
    "#         self.dataset = dataset\n",
    "#         self.dataset_iter = itertools.chain.from_iterable(\n",
    "#             itertools.repeat(iter(dataset), 2)\n",
    "#         )\n",
    "#         # self.num_videos = make_num_videos(self.dataset)\n",
    "#         self.num_videos = len(self.dataset.video_sampler)\n",
    "\n",
    "#     def __getitem__(self, index):\n",
    "#         return next(self.dataset_iter), \"kinetics\"\n",
    "    \n",
    "\n",
    "#     def __len__(self):\n",
    "#         return self.num_videos"
   ],
   "outputs": [],
   "metadata": {}
  },
  {
   "cell_type": "code",
   "execution_count": 5,
   "source": [
    "class KineticsLimitDataset(torch.utils.data.Dataset):\n",
    "    def __init__(self, dataset):\n",
    "        super().__init__()\n",
    "        self.dataset = dataset\n",
    "        self.dataset_iter = itertools.chain.from_iterable(\n",
    "            itertools.repeat(iter(dataset), 2)\n",
    "        )\n",
    "        # self.num_videos = make_num_videos(self.dataset)\n",
    "        self.num_videos = len(self.dataset.video_sampler)\n",
    "\n",
    "    def __getitem__(self, index):\n",
    "        dict = next(self.dataset_iter)\n",
    "        dict[\"dataset_name\"] = \"kinetics\"\n",
    "        return dict\n",
    "    \n",
    "\n",
    "    def __len__(self):\n",
    "        return self.num_videos"
   ],
   "outputs": [],
   "metadata": {}
  },
  {
   "cell_type": "code",
   "execution_count": 6,
   "source": [
    "# class Ucf101LimitDataset(torch.utils.data.Dataset):\n",
    "#     def __init__(self, dataset):\n",
    "#         super().__init__()\n",
    "#         self.dataset = dataset\n",
    "#         self.dataset_iter = itertools.chain.from_iterable(\n",
    "#             itertools.repeat(iter(dataset), 2)\n",
    "#         )\n",
    "#         # self.num_videos = make_num_videos(self.dataset)\n",
    "#         self.num_videos = len(self.dataset.video_sampler)\n",
    "\n",
    "#     def __getitem__(self, index):\n",
    "#         return next(self.dataset_iter), \"Ucf101\"\n",
    "    \n",
    "\n",
    "#     def __len__(self):\n",
    "#         return self.num_videos"
   ],
   "outputs": [],
   "metadata": {}
  },
  {
   "cell_type": "code",
   "execution_count": 7,
   "source": [
    "class Ucf101LimitDataset(torch.utils.data.Dataset):\n",
    "    def __init__(self, dataset):\n",
    "        super().__init__()\n",
    "        self.dataset = dataset\n",
    "        self.dataset_iter = itertools.chain.from_iterable(\n",
    "            itertools.repeat(iter(dataset), 2)\n",
    "        )\n",
    "        # self.num_videos = make_num_videos(self.dataset)\n",
    "        self.num_videos = len(self.dataset.video_sampler)\n",
    "\n",
    "    def __getitem__(self, index):\n",
    "        dict = next(self.dataset_iter)\n",
    "        dict[\"dataset_name\"] = \"ucf101\"\n",
    "        return dict\n",
    "    \n",
    "\n",
    "    def __len__(self):\n",
    "        return self.num_videos"
   ],
   "outputs": [],
   "metadata": {}
  },
  {
   "cell_type": "code",
   "execution_count": 8,
   "source": [
    "# class WrapperDataset(pytorchvideo.data.LabeledVideoDataset):\n",
    "#     def __init__(self, dataset, labeld_video_paths, clip_sampler):\n",
    "#         super().__init__()\n",
    "#         self.dataset = dataset\n",
    "#         self.labeled_video_paths = dataset.labeled_video_paths\n",
    "#         self.clip_sampler = dataset.clip_sampler\n",
    "#         self.dataset_iter = itertools.chain.from_iterable(\n",
    "#             itertools.repeat(iter(dataset), 2)\n",
    "#         )\n",
    "#         # self.num_videos = make_num_videos(self.dataset)\n",
    "#         self.num_videos = len(self.dataset.video_sampler)\n",
    "\n",
    "#     def __getitem__(self, index):\n",
    "#         return next(self.dataset_iter)\n",
    "\n",
    "#     def __len__(self):\n",
    "#         return self.num_videos"
   ],
   "outputs": [],
   "metadata": {}
  },
  {
   "cell_type": "code",
   "execution_count": 9,
   "source": [
    "# class WrapperDataset(pytorchvideo.data.LabeledVideoDataset):\n",
    "#     def __init__(self, dataset):\n",
    "#         super().__init__()\n",
    "#         self.dataset = dataset\n",
    "#         self.labeled_video_paths = dataset.labeled_video_paths\n",
    "#         self.clip_sampler = dataset.clip_sampler\n",
    "#         self.dataset_iter = itertools.chain.from_iterable(\n",
    "#             itertools.repeat(iter(dataset), 2)\n",
    "#         )\n",
    "#         # self.num_videos = make_num_videos(self.dataset)\n",
    "#         self.num_videos = len(self.dataset.video_sampler)\n",
    "\n",
    "#     def __getitem__(self, index):\n",
    "#         return next(self.dataset_iter)\n",
    "\n",
    "#     def __len__(self):\n",
    "#         return self.num_videos"
   ],
   "outputs": [],
   "metadata": {}
  },
  {
   "cell_type": "code",
   "execution_count": 10,
   "source": [
    "def get_ucf101(subset):\n",
    "    \"\"\"\n",
    "    ucf101のデータセットを取得\n",
    "\n",
    "    Args:\n",
    "        subset (str): \"train\" or \"test\"\n",
    "\n",
    "    Returns:\n",
    "        pytorchvideo.data.LabeledVideoDataset: 取得したデータセット\n",
    "    \"\"\"\n",
    "    subset_root_Ucf101 = 'ucfTrainTestlist/trainlist01.txt'\n",
    "    if subset == \"test\":\n",
    "        subset_root_Ucf101 = 'ucfTrainTestlist/testlist.txt'\n",
    "\n",
    "    args = Args()\n",
    "    transform = Compose([\n",
    "        ApplyTransformToKey(\n",
    "            key=\"video\",\n",
    "            transform=Compose([\n",
    "                UniformTemporalSubsample(args.VIDEO_NUM_SUBSAMPLED),\n",
    "                transforms.Lambda(lambda x: x / 255.),\n",
    "                Normalize((0.45, 0.45, 0.45), (0.225, 0.225, 0.225)),\n",
    "                ShortSideScale(size=256),\n",
    "                # RandomShortSideScale(min_size=256, max_size=320,),\n",
    "                # CenterCropVideo(crop_size=(256, 256)),\n",
    "                CenterCrop(256),\n",
    "                # RandomCrop(224),\n",
    "                RandomHorizontalFlip(),\n",
    "            ]),\n",
    "        ),\n",
    "        ApplyTransformToKey(\n",
    "            key=\"label\",\n",
    "            transform=transforms.Lambda(lambda x: x - 1),\n",
    "        ),\n",
    "        RemoveKey(\"audio\"),\n",
    "    ])\n",
    "\n",
    "    # root_ucf101 = '/mnt/dataset/UCF101/'\n",
    "    root_ucf101 = '/mnt/dataset/UCF101/'\n",
    "\n",
    "    dataset = Ucf101(\n",
    "        data_path=root_ucf101 + subset_root_Ucf101,\n",
    "        video_path_prefix=root_ucf101 + 'video/',\n",
    "        clip_sampler=RandomClipSampler(clip_duration=args.CLIP_DURATION),\n",
    "        video_sampler=RandomSampler,\n",
    "        decode_audio=False,\n",
    "        transform=transform,\n",
    "    )\n",
    "\n",
    "    return dataset"
   ],
   "outputs": [],
   "metadata": {}
  },
  {
   "cell_type": "code",
   "execution_count": 11,
   "source": [
    "def get_kinetics(subset):\n",
    "    \"\"\"\n",
    "    Kinetics400のデータセットを取得\n",
    "\n",
    "    Args:\n",
    "        subset (str): \"train\" or \"val\" or \"test\"\n",
    "\n",
    "    Returns:\n",
    "        pytorchvideo.data.LabeledVideoDataset: 取得したデータセット\n",
    "    \"\"\"\n",
    "    args = Args()\n",
    "    transform = Compose([\n",
    "        ApplyTransformToKey(\n",
    "            key=\"video\",\n",
    "            transform=Compose([\n",
    "                UniformTemporalSubsample(args.VIDEO_NUM_SUBSAMPLED),\n",
    "                transforms.Lambda(lambda x: x / 255.),\n",
    "                Normalize((0.45, 0.45, 0.45), (0.225, 0.225, 0.225)),\n",
    "                ShortSideScale(size=256),\n",
    "                # RandomShortSideScale(min_size=256, max_size=320,),\n",
    "                # CenterCropVideo(crop_size=(256, 256)),\n",
    "                CenterCrop(256),\n",
    "                # RandomCrop(224),\n",
    "                RandomHorizontalFlip(),\n",
    "            ]),\n",
    "        ),\n",
    "        ApplyTransformToKey(\n",
    "            key=\"label\",\n",
    "            transform=transforms.Lambda(lambda x: x),\n",
    "        ),\n",
    "        RemoveKey(\"audio\"),\n",
    "    ])\n",
    "\n",
    "    root_kinetics = '/mnt/dataset/Kinetics400/'\n",
    "\n",
    "    if subset == \"test\":\n",
    "        dataset = Kinetics(\n",
    "            data_path=root_kinetics + \"test_list.txt\",\n",
    "            video_path_prefix=root_kinetics + 'test/',\n",
    "            clip_sampler=RandomClipSampler(clip_duration=args.CLIP_DURATION),\n",
    "            video_sampler=RandomSampler,\n",
    "            decode_audio=False,\n",
    "            transform=transform,\n",
    "        )\n",
    "        return dataset\n",
    "    else:\n",
    "        dataset = Kinetics(\n",
    "            data_path=root_kinetics + subset,\n",
    "            video_path_prefix=root_kinetics + subset,\n",
    "            clip_sampler=RandomClipSampler(clip_duration=args.CLIP_DURATION),\n",
    "            video_sampler=RandomSampler,\n",
    "            decode_audio=False,\n",
    "            transform=transform,\n",
    "        )\n",
    "        return dataset\n",
    "\n",
    "    return False"
   ],
   "outputs": [],
   "metadata": {}
  },
  {
   "cell_type": "code",
   "execution_count": 12,
   "source": [
    "def make_loader(dataset):\n",
    "    \"\"\"\n",
    "    データローダーを作成\n",
    "\n",
    "    Args:\n",
    "        dataset (pytorchvideo.data.labeled_video_dataset.LabeledVideoDataset): get_datasetメソッドで取得したdataset\n",
    "\n",
    "    Returns:\n",
    "        torch.utils.data.DataLoader: 取得したデータローダー\n",
    "    \"\"\"\n",
    "    args = Args()\n",
    "    loader = DataLoader(LimitDataset(dataset),\n",
    "                        batch_size=args.BATCH_SIZE,\n",
    "                        drop_last=True,\n",
    "                        num_workers=args.NUM_WORKERS)\n",
    "    return loader"
   ],
   "outputs": [],
   "metadata": {}
  },
  {
   "cell_type": "code",
   "execution_count": 13,
   "source": [
    "def make_multi_loader(dataset):\n",
    "    args = Args()\n",
    "    loader = DataLoader(dataset,\n",
    "                        batch_size=args.BATCH_SIZE,\n",
    "                        shuffle=True,\n",
    "                        drop_last=True,\n",
    "                        num_workers=args.NUM_WORKERS)\n",
    "    return loader"
   ],
   "outputs": [],
   "metadata": {}
  },
  {
   "cell_type": "code",
   "execution_count": 14,
   "source": [
    "ucf_dataset = get_ucf101(\"test\")\n",
    "kinetics_dataset = get_kinetics(\"test\")\n",
    "print(ucf_dataset.num_videos)\n",
    "print(kinetics_dataset.num_videos)"
   ],
   "outputs": [
    {
     "output_type": "stream",
     "name": "stdout",
     "text": [
      "3783\n",
      "35357\n"
     ]
    }
   ],
   "metadata": {}
  },
  {
   "cell_type": "markdown",
   "source": [
    "https://github.com/pytorch/pytorch/blob/master/torch/utils/data/dataset.py\n",
    "\n",
    "```python\n",
    "class ChainDataset(IterableDataset):\n",
    "    r\"\"\"Dataset for chaining multiple :class:`IterableDataset` s.\n",
    "    This class is useful to assemble different existing dataset streams. The\n",
    "    chaining operation is done on-the-fly, so concatenating large-scale\n",
    "    datasets with this class will be efficient.\n",
    "    Args:\n",
    "        datasets (iterable of IterableDataset): datasets to be chained together\n",
    "    \"\"\"\n",
    "    def __init__(self, datasets: Iterable[Dataset]) -> None:\n",
    "        super(ChainDataset, self).__init__()\n",
    "        self.datasets = datasets\n",
    "\n",
    "    def __iter__(self):\n",
    "        for d in self.datasets:\n",
    "            assert isinstance(d, IterableDataset), \"ChainDataset only supports IterableDataset\"\n",
    "            for x in d:\n",
    "                yield x\n",
    "\n",
    "    def __len__(self):\n",
    "        total = 0\n",
    "        for d in self.datasets:\n",
    "            assert isinstance(d, IterableDataset), \"ChainDataset only supports IterableDataset\"\n",
    "            total += len(d)\n",
    "        return total\n",
    "```"
   ],
   "metadata": {}
  },
  {
   "cell_type": "code",
   "execution_count": 15,
   "source": [
    "# chain_datasets = ucf_dataset + kinetics_dataset\n",
    "# print(type(chain_datasets))\n",
    "# concat_datasets = LimitDataset(ucf_dataset) + LimitDataset(kinetics_dataset)\n",
    "# print(type(concat_datasets))\n",
    "limit_datasets = Ucf101LimitDataset(ucf_dataset) + KineticsLimitDataset(kinetics_dataset)\n",
    "print(type(limit_datasets))\n",
    "# wrapper_datasets = WrapperDataset(ucf_dataset, labeld_video_paths=\"a\", clip_sampler=\"b\") + WrapperDataset(kinetics_dataset, labeld_video_paths=\"a\", clip_sampler=\"b\")\n",
    "# print(type(wrapper_datasets))\n"
   ],
   "outputs": [
    {
     "output_type": "stream",
     "name": "stdout",
     "text": [
      "<class 'torch.utils.data.dataset.ConcatDataset'>\n"
     ]
    }
   ],
   "metadata": {}
  },
  {
   "cell_type": "code",
   "execution_count": 16,
   "source": [
    "# print(type(chain_datasets.datasets))\n",
    "# print(type(chain_datasets.datasets[0]))\n",
    "# print(chain_datasets.__len__())"
   ],
   "outputs": [],
   "metadata": {}
  },
  {
   "cell_type": "code",
   "execution_count": 18,
   "source": [
    "# print(type(concat_datasets.datasets))\n",
    "# print(type(concat_datasets.datasets[0]))"
   ],
   "outputs": [],
   "metadata": {}
  },
  {
   "cell_type": "code",
   "execution_count": 19,
   "source": [
    "# chain_loader = make_multi_loader(chain_datasets)"
   ],
   "outputs": [],
   "metadata": {}
  },
  {
   "cell_type": "code",
   "execution_count": 20,
   "source": [
    "# concat_loader = make_multi_loader(concat_datasets)"
   ],
   "outputs": [],
   "metadata": {}
  },
  {
   "cell_type": "code",
   "execution_count": 21,
   "source": [
    "limit_loader = make_multi_loader(limit_datasets)"
   ],
   "outputs": [],
   "metadata": {}
  },
  {
   "cell_type": "code",
   "execution_count": 22,
   "source": [
    "# chain_batch = iter(chain_loader).__next__()\n",
    "# print(type(chain_batch))\n",
    "# chain_inputs = chain_batch[\"video\"]\n",
    "# # print(type(chain_inputs))\n",
    "# print(chain_inputs.shape)\n",
    "# chain_labels = chain_batch[\"label\"]\n",
    "# # print(type(chain_labels))\n",
    "# print(chain_labels.shape)"
   ],
   "outputs": [],
   "metadata": {}
  },
  {
   "cell_type": "markdown",
   "source": [
    "### 下の2つのセルの結果からデータセット名を加えても実行時間は変わらないことが確認できた\n",
    "- DataLoaderを```Shuffle=False```だともっと時間がはやかっった\n",
    "- DataLoaderでシャッフルするならVideoSamplerはRandomでなくてもよさそう\n",
    "  - そっちの方が早いかどうかも後で検証"
   ],
   "metadata": {}
  },
  {
   "cell_type": "code",
   "execution_count": 23,
   "source": [
    "# concat_batch = iter(concat_loader).__next__()\n",
    "# print(type(concat_batch))\n",
    "# print(concat_batch.keys())\n",
    "# concat_inputs = concat_batch[\"video\"]\n",
    "# # print(type(concat_inputs))\n",
    "# print(concat_inputs.shape)\n",
    "# concat_labels = concat_batch[\"label\"]\n",
    "# # print(type(concat_labels))\n",
    "# print(concat_labels.shape)"
   ],
   "outputs": [],
   "metadata": {}
  },
  {
   "cell_type": "code",
   "execution_count": 24,
   "source": [
    "limit_batch = iter(limit_loader).__next__()\n",
    "print(type(limit_batch))\n",
    "print(limit_batch.keys())\n",
    "limit_inputs = limit_batch[\"video\"]\n",
    "# print(type(limit_inputs))\n",
    "print(limit_inputs.shape)\n",
    "limit_labels = limit_batch[\"label\"]\n",
    "# print(type(limit_labels))\n",
    "print(limit_labels.shape)"
   ],
   "outputs": [
    {
     "output_type": "stream",
     "name": "stdout",
     "text": [
      "<class 'dict'>\n",
      "dict_keys(['video', 'video_name', 'video_index', 'clip_index', 'aug_index', 'label', 'dataset_name'])\n",
      "torch.Size([32, 3, 8, 256, 256])\n",
      "torch.Size([32])\n"
     ]
    }
   ],
   "metadata": {}
  },
  {
   "cell_type": "code",
   "execution_count": 16,
   "source": [
    "# limit_batch, data_name = iter(limit_loader).__next__()\n",
    "# print(data_name)\n",
    "# print(type(data_name))\n",
    "# print(type(limit_batch))\n",
    "# print(limit_batch.keys())\n",
    "# limit_inputs = limit_batch[\"video\"]\n",
    "# # print(type(limit_inputs))\n",
    "# print(limit_inputs.shape)\n",
    "# limit_labels = limit_batch[\"label\"]\n",
    "# # print(type(limit_labels))\n",
    "# print(limit_labels.shape)"
   ],
   "outputs": [
    {
     "output_type": "stream",
     "name": "stdout",
     "text": [
      "('kinetics', 'kinetics', 'kinetics', 'kinetics', 'kinetics', 'kinetics', 'kinetics', 'Ucf101', 'kinetics', 'kinetics', 'kinetics', 'kinetics', 'kinetics', 'kinetics', 'kinetics', 'kinetics', 'kinetics', 'kinetics', 'kinetics', 'kinetics', 'kinetics', 'kinetics', 'kinetics', 'kinetics', 'kinetics', 'Ucf101', 'kinetics', 'kinetics', 'kinetics', 'kinetics', 'kinetics', 'kinetics')\n",
      "<class 'tuple'>\n",
      "<class 'dict'>\n",
      "dict_keys(['video', 'video_name', 'video_index', 'clip_index', 'aug_index', 'label'])\n",
      "torch.Size([32, 3, 8, 256, 256])\n",
      "torch.Size([32])\n"
     ]
    }
   ],
   "metadata": {}
  },
  {
   "cell_type": "code",
   "execution_count": 25,
   "source": [
    "limit_batch[\"dataset_name\"]"
   ],
   "outputs": [
    {
     "output_type": "execute_result",
     "data": {
      "text/plain": [
       "['kinetics',\n",
       " 'kinetics',\n",
       " 'kinetics',\n",
       " 'kinetics',\n",
       " 'kinetics',\n",
       " 'kinetics',\n",
       " 'kinetics',\n",
       " 'ucf101',\n",
       " 'kinetics',\n",
       " 'kinetics',\n",
       " 'kinetics',\n",
       " 'kinetics',\n",
       " 'kinetics',\n",
       " 'kinetics',\n",
       " 'kinetics',\n",
       " 'kinetics',\n",
       " 'ucf101',\n",
       " 'kinetics',\n",
       " 'kinetics',\n",
       " 'kinetics',\n",
       " 'kinetics',\n",
       " 'kinetics',\n",
       " 'kinetics',\n",
       " 'kinetics',\n",
       " 'kinetics',\n",
       " 'kinetics',\n",
       " 'kinetics',\n",
       " 'ucf101',\n",
       " 'kinetics',\n",
       " 'kinetics',\n",
       " 'kinetics',\n",
       " 'kinetics']"
      ]
     },
     "metadata": {},
     "execution_count": 25
    }
   ],
   "metadata": {}
  },
  {
   "cell_type": "code",
   "execution_count": 20,
   "source": [
    "# class MyUcf101(pytorchvideo.data.LabeledVideoDataset):\n",
    "\n",
    "#     def __next__(self):\n",
    "#         dict = super().__next__()\n",
    "#         dict[\"dataset\"] = \"ucf101\"\n",
    "#         return dict\n",
    "\n",
    "# class MyKinetics(pytorchvideo.data.LabeledVideoDataset):\n",
    "\n",
    "#     def __next__(self):\n",
    "#         dict = super().__next__()\n",
    "#         dict[\"dataset\"] = \"kinetics\"\n",
    "#         return dict"
   ],
   "outputs": [],
   "metadata": {}
  },
  {
   "cell_type": "code",
   "execution_count": null,
   "source": [
    "# y_ucf_dataset = MyUcf101(ucf_dataset)\n",
    "# my_kinetics_dataset = MyKinetics(kinetics_dataset)"
   ],
   "outputs": [],
   "metadata": {}
  },
  {
   "cell_type": "markdown",
   "source": [
    "## torchvision.dataset.DatasetNameとpytorchvicdo.data.LaveldVideoDatasetの違い\n",
    "- torchvisionはクラスを呼び出しているのでtorchvisionのクラスを継承したクラスを定義して新たに定義したクラスにtorchvisionと同じ引数を与えて呼び出せる\n",
    "- pytorchvideoはメソッドを呼び出して返り値がクラスなのでwrapperのようなことをするしかない？\n",
    "- LimitDatasetの```__getitem__()```でデータセットの名前も同時に返すとか（dictに入らないしデータセットごとにLimitDatasetクラスを用意しなければならない）\n",
    "  - ```__getitem__()```ではバッチごと持ってくるので1つ1つのデータにデータセット名を与えられないので（バッチ単位で同じデータセット名を与えてしまう）やっぱりdictに入れるのが良さそう"
   ],
   "metadata": {}
  },
  {
   "cell_type": "markdown",
   "source": [
    "## 以下で学習ループを回しデータによってアダプタを変更するコードを設計"
   ],
   "metadata": {}
  },
  {
   "cell_type": "code",
   "execution_count": null,
   "source": [],
   "outputs": [],
   "metadata": {}
  }
 ],
 "metadata": {
  "orig_nbformat": 4,
  "language_info": {
   "name": "python",
   "version": "3.8.8",
   "mimetype": "text/x-python",
   "codemirror_mode": {
    "name": "ipython",
    "version": 3
   },
   "pygments_lexer": "ipython3",
   "nbconvert_exporter": "python",
   "file_extension": ".py"
  },
  "kernelspec": {
   "name": "python3",
   "display_name": "Python 3.8.8 64-bit ('base': conda)"
  },
  "interpreter": {
   "hash": "98b0a9b7b4eaaa670588a142fd0a9b87eaafe866f1db4228be72b4211d12040f"
  }
 },
 "nbformat": 4,
 "nbformat_minor": 2
}