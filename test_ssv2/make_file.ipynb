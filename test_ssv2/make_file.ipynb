{
 "cells": [
  {
   "cell_type": "code",
   "execution_count": 29,
   "source": [
    "import numpy as np\n",
    "import pandas as pd "
   ],
   "outputs": [],
   "metadata": {}
  },
  {
   "cell_type": "code",
   "execution_count": 30,
   "source": [
    "!pwd"
   ],
   "outputs": [
    {
     "output_type": "stream",
     "name": "stdout",
     "text": [
      "/mnt/HDD10TB-1/omi/test/video_training/test_ssv2\n"
     ]
    }
   ],
   "metadata": {}
  },
  {
   "cell_type": "code",
   "execution_count": 31,
   "source": [
    "filename = '/mnt/NAS-TVS872XT/dataset/something-something-v2/category.txt'"
   ],
   "outputs": [],
   "metadata": {}
  },
  {
   "cell_type": "code",
   "execution_count": 32,
   "source": [
    "df_origin = pd.read_csv(filename, sep=\"/t\", names=[\"label_name\"])"
   ],
   "outputs": [
    {
     "output_type": "stream",
     "name": "stderr",
     "text": [
      "<ipython-input-32-922cfc8f0ad7>:1: ParserWarning: Falling back to the 'python' engine because the 'c' engine does not support regex separators (separators > 1 char and different from '\\s+' are interpreted as regex); you can avoid this warning by specifying engine='python'.\n",
      "  df_origin = pd.read_csv(filename, sep=\"/t\", names=[\"label_name\"])\n"
     ]
    }
   ],
   "metadata": {}
  },
  {
   "cell_type": "code",
   "execution_count": 33,
   "source": [
    "print(df_origin)"
   ],
   "outputs": [
    {
     "output_type": "stream",
     "name": "stdout",
     "text": [
      "                                            label_name\n",
      "0               Approaching something with your camera\n",
      "1                     Attaching something to something\n",
      "2                 Bending something so that it deforms\n",
      "3                    Bending something until it breaks\n",
      "4                       Burying something in something\n",
      "..                                                 ...\n",
      "169  Twisting (wringing) something wet until water ...\n",
      "170                                 Twisting something\n",
      "171                               Uncovering something\n",
      "172                                Unfolding something\n",
      "173                  Wiping something off of something\n",
      "\n",
      "[174 rows x 1 columns]\n"
     ]
    }
   ],
   "metadata": {}
  },
  {
   "cell_type": "code",
   "execution_count": 34,
   "source": [
    "serial_num = pd.RangeIndex(start=0, stop=len(df_origin.index), step=1)\n",
    "df_origin['label_id'] = serial_num\n",
    "print(df_origin)"
   ],
   "outputs": [
    {
     "output_type": "stream",
     "name": "stdout",
     "text": [
      "                                            label_name  label_id\n",
      "0               Approaching something with your camera         0\n",
      "1                     Attaching something to something         1\n",
      "2                 Bending something so that it deforms         2\n",
      "3                    Bending something until it breaks         3\n",
      "4                       Burying something in something         4\n",
      "..                                                 ...       ...\n",
      "169  Twisting (wringing) something wet until water ...       169\n",
      "170                                 Twisting something       170\n",
      "171                               Uncovering something       171\n",
      "172                                Unfolding something       172\n",
      "173                  Wiping something off of something       173\n",
      "\n",
      "[174 rows x 2 columns]\n"
     ]
    }
   ],
   "metadata": {}
  },
  {
   "cell_type": "code",
   "execution_count": 35,
   "source": [
    "print(\"{0} {1}\".format(\n",
    "    df_origin.iloc[0].label_name,\n",
    "    df_origin.iloc[0].label_id\n",
    "))"
   ],
   "outputs": [
    {
     "output_type": "stream",
     "name": "stdout",
     "text": [
      "Approaching something with your camera 0\n"
     ]
    }
   ],
   "metadata": {}
  },
  {
   "cell_type": "code",
   "execution_count": 37,
   "source": [
    "f = open('label_name_file.txt', 'w')\n",
    "for i in range(len(df_origin.index)):\n",
    "    f.write(\"{0} {1}\\n\".format(\n",
    "        df_origin.iloc[i].label_name,\n",
    "        df_origin.iloc[i].label_id\n",
    "))\n",
    "f.close()"
   ],
   "outputs": [],
   "metadata": {}
  },
  {
   "cell_type": "code",
   "execution_count": null,
   "source": [],
   "outputs": [],
   "metadata": {}
  }
 ],
 "metadata": {
  "orig_nbformat": 4,
  "language_info": {
   "name": "python",
   "version": "3.8.8",
   "mimetype": "text/x-python",
   "codemirror_mode": {
    "name": "ipython",
    "version": 3
   },
   "pygments_lexer": "ipython3",
   "nbconvert_exporter": "python",
   "file_extension": ".py"
  },
  "kernelspec": {
   "name": "python3",
   "display_name": "Python 3.8.8 64-bit ('base': conda)"
  },
  "interpreter": {
   "hash": "98b0a9b7b4eaaa670588a142fd0a9b87eaafe866f1db4228be72b4211d12040f"
  }
 },
 "nbformat": 4,
 "nbformat_minor": 2
}