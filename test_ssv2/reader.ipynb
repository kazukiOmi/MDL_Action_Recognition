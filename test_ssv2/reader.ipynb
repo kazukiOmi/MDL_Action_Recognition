{
 "cells": [
  {
   "cell_type": "code",
   "execution_count": 7,
   "source": [
    "import torch\n",
    "import torch.nn as nn\n",
    "from torch.utils.data import DataLoader\n",
    "from torch.utils.data.dataloader import default_collate\n",
    "from torch.utils.data import DistributedSampler, RandomSampler\n",
    "\n",
    "\n",
    "from torchvision import transforms\n",
    "\n",
    "\n",
    "from pytorchvideo.models import x3d\n",
    "from pytorchvideo.data import (\n",
    "    Ucf101, \n",
    "    RandomClipSampler, \n",
    "    UniformClipSampler, \n",
    "    Kinetics,\n",
    "    SSv2\n",
    ")\n",
    "\n",
    "\n",
    "from pytorchvideo.transforms import (\n",
    "    ApplyTransformToKey,\n",
    "    Normalize,\n",
    "    RandomShortSideScale,\n",
    "    RemoveKey,\n",
    "    ShortSideScale,\n",
    "    UniformTemporalSubsample,\n",
    ")\n",
    "from torchvision.transforms import (\n",
    "    CenterCrop,\n",
    "    Compose,\n",
    "    Lambda,\n",
    "    RandomCrop,\n",
    "    RandomHorizontalFlip,\n",
    ")\n",
    "\n",
    "\n",
    "#import torchinfo\n",
    "\n",
    "from tqdm.notebook import tqdm\n",
    "import itertools\n",
    "import os\n",
    "import pickle"
   ],
   "outputs": [],
   "metadata": {}
  },
  {
   "cell_type": "code",
   "execution_count": 8,
   "source": [
    "class Args:\n",
    "    def __init__(self):\n",
    "        self.metadata_path = '/mnt/NAS-TVS872XT/dataset/'\n",
    "        self.root = self.metadata_path\n",
    "        self.annotation_path = self.metadata_path\n",
    "        self.FRAMES_PER_CLIP = 16\n",
    "        self.STEP_BETWEEN_CLIPS = 16\n",
    "        self.BATCH_SIZE = 16\n",
    "        self.NUM_WORKERS = 8  # kinetics:8, ucf101:24\n",
    "\n",
    "        self.CLIP_DURATION = (8 * 8) / 30  # (num_frames * sampling_rate)/fps\n",
    "        self.VIDEO_NUM_SUBSAMPLED = 8  # 事前学習済みモデルに合わせて16→8\n",
    "        self.UCF101_NUM_CLASSES = 101\n",
    "        self.KINETIC400_NUM_CLASSES = 400\n",
    "\n",
    "args = Args()"
   ],
   "outputs": [],
   "metadata": {}
  },
  {
   "cell_type": "code",
   "execution_count": 9,
   "source": [
    "transform = Compose([\n",
    "    ApplyTransformToKey(\n",
    "        key=\"video\",\n",
    "        transform=Compose([\n",
    "            UniformTemporalSubsample(args.VIDEO_NUM_SUBSAMPLED),\n",
    "            transforms.Lambda(lambda x: x / 255.),\n",
    "            # Normalize((0.45, 0.45, 0.45), (0.225, 0.225, 0.225)),\n",
    "            ShortSideScale(size=256),\n",
    "            # RandomShortSideScale(min_size=256, max_size=320,),\n",
    "            # CenterCropVideo(crop_size=(256, 256)),\n",
    "            CenterCrop(256),\n",
    "            # RandomCrop(224),\n",
    "            RandomHorizontalFlip(),\n",
    "        ]),\n",
    "    ),\n",
    "    ApplyTransformToKey(\n",
    "        key=\"label\",\n",
    "        transform=transforms.Lambda(lambda x: x),\n",
    "    ),\n",
    "    RemoveKey(\"audio\"),\n",
    "])"
   ],
   "outputs": [],
   "metadata": {}
  },
  {
   "cell_type": "code",
   "execution_count": 11,
   "source": [
    "root_SSv2 = '/mnt/NAS-TVS872XT/dataset/something-something-v2/'\n",
    "\n",
    "train_dataset = SSv2(\n",
    "            data_path=root_SSv2 + \"train\",\n",
    "            video_path_prefix=root_SSv2 + \"train\",\n",
    "            clip_sampler=RandomClipSampler(clip_duration=args.CLIP_DURATION),\n",
    "            video_sampler=RandomSampler,\n",
    "            decode_audio=False,\n",
    "            transform=transform,\n",
    "        )\n",
    "\n",
    "# test_dataset = SSv2(\n",
    "#             data_path=root_SSv2 + \"test_list.txt\",\n",
    "#             video_path_prefix=root_SSv2 + 'test/',\n",
    "#             clip_sampler=RandomClipSampler(clip_duration=args.CLIP_DURATION),\n",
    "#             video_sampler=RandomSampler,\n",
    "#             decode_audio=False,\n",
    "#             transform=transform,\n",
    "#         )\n",
    "\n",
    "# val_dataset = SSv2(\n",
    "#             data_path=root_SSv2 + \"val\",\n",
    "#             video_path_prefix=root_SSv2 + \"val\",\n",
    "#             clip_sampler=RandomClipSampler(clip_duration=args.CLIP_DURATION),\n",
    "#             # clip_sampler=UniformClipSampler(clip_duration=args.CLIP_DURATION),\n",
    "#             video_sampler=RandomSampler,\n",
    "#             decode_audio=False,\n",
    "#             transform=transform,\n",
    "#         )"
   ],
   "outputs": [
    {
     "output_type": "error",
     "ename": "TypeError",
     "evalue": "__init__() got an unexpected keyword argument 'data_path'",
     "traceback": [
      "\u001b[0;31m---------------------------------------------------------------------------\u001b[0m",
      "\u001b[0;31mTypeError\u001b[0m                                 Traceback (most recent call last)",
      "\u001b[0;32m<ipython-input-11-878ed9c045ea>\u001b[0m in \u001b[0;36m<module>\u001b[0;34m\u001b[0m\n\u001b[1;32m      1\u001b[0m \u001b[0mroot_SSv2\u001b[0m \u001b[0;34m=\u001b[0m \u001b[0;34m'/mnt/NAS-TVS872XT/dataset/something-something-v2/'\u001b[0m\u001b[0;34m\u001b[0m\u001b[0;34m\u001b[0m\u001b[0m\n\u001b[1;32m      2\u001b[0m \u001b[0;34m\u001b[0m\u001b[0m\n\u001b[0;32m----> 3\u001b[0;31m train_dataset = SSv2(\n\u001b[0m\u001b[1;32m      4\u001b[0m             \u001b[0mdata_path\u001b[0m\u001b[0;34m=\u001b[0m\u001b[0mroot_SSv2\u001b[0m \u001b[0;34m+\u001b[0m \u001b[0;34m\"train\"\u001b[0m\u001b[0;34m,\u001b[0m\u001b[0;34m\u001b[0m\u001b[0;34m\u001b[0m\u001b[0m\n\u001b[1;32m      5\u001b[0m             \u001b[0mvideo_path_prefix\u001b[0m\u001b[0;34m=\u001b[0m\u001b[0mroot_SSv2\u001b[0m \u001b[0;34m+\u001b[0m \u001b[0;34m\"train\"\u001b[0m\u001b[0;34m,\u001b[0m\u001b[0;34m\u001b[0m\u001b[0;34m\u001b[0m\u001b[0m\n",
      "\u001b[0;31mTypeError\u001b[0m: __init__() got an unexpected keyword argument 'data_path'"
     ]
    }
   ],
   "metadata": {}
  },
  {
   "cell_type": "code",
   "execution_count": null,
   "source": [],
   "outputs": [],
   "metadata": {}
  }
 ],
 "metadata": {
  "orig_nbformat": 4,
  "language_info": {
   "name": "python",
   "version": "3.8.8",
   "mimetype": "text/x-python",
   "codemirror_mode": {
    "name": "ipython",
    "version": 3
   },
   "pygments_lexer": "ipython3",
   "nbconvert_exporter": "python",
   "file_extension": ".py"
  },
  "kernelspec": {
   "name": "python3",
   "display_name": "Python 3.8.8 64-bit ('base': conda)"
  },
  "interpreter": {
   "hash": "98b0a9b7b4eaaa670588a142fd0a9b87eaafe866f1db4228be72b4211d12040f"
  }
 },
 "nbformat": 4,
 "nbformat_minor": 2
}