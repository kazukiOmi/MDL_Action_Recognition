{
 "cells": [
  {
   "cell_type": "code",
   "execution_count": 46,
   "source": [
    "import numpy as np\n",
    "import pandas as pd "
   ],
   "outputs": [],
   "metadata": {}
  },
  {
   "cell_type": "code",
   "execution_count": 47,
   "source": [
    "!pwd"
   ],
   "outputs": [
    {
     "output_type": "stream",
     "name": "stdout",
     "text": [
      "/mnt/HDD10TB-1/omi/test/video_training/make_ucf101_txt\n"
     ]
    }
   ],
   "metadata": {}
  },
  {
   "cell_type": "code",
   "execution_count": 48,
   "source": [
    "filename = '/mnt/NAS-TVS872XT/dataset/UCF101/ucfTrainTestlist/testlist01.txt'"
   ],
   "outputs": [],
   "metadata": {}
  },
  {
   "cell_type": "code",
   "execution_count": 50,
   "source": [
    "df_org = pd.read_csv(filename, names=[\"video_path\"])\n",
    "print(df_org)"
   ],
   "outputs": [
    {
     "output_type": "stream",
     "name": "stdout",
     "text": [
      "                                       video_path\n",
      "0     ApplyEyeMakeup/v_ApplyEyeMakeup_g01_c01.avi\n",
      "1     ApplyEyeMakeup/v_ApplyEyeMakeup_g01_c02.avi\n",
      "2     ApplyEyeMakeup/v_ApplyEyeMakeup_g01_c03.avi\n",
      "3     ApplyEyeMakeup/v_ApplyEyeMakeup_g01_c04.avi\n",
      "4     ApplyEyeMakeup/v_ApplyEyeMakeup_g01_c05.avi\n",
      "...                                           ...\n",
      "3778                      YoYo/v_YoYo_g06_c04.avi\n",
      "3779                      YoYo/v_YoYo_g07_c01.avi\n",
      "3780                      YoYo/v_YoYo_g07_c02.avi\n",
      "3781                      YoYo/v_YoYo_g07_c03.avi\n",
      "3782                      YoYo/v_YoYo_g07_c04.avi\n",
      "\n",
      "[3783 rows x 1 columns]\n"
     ]
    }
   ],
   "metadata": {}
  },
  {
   "cell_type": "code",
   "execution_count": 51,
   "source": [
    "df = pd.read_csv(filename, sep=\"/\", names=[\"video_class\", \"video_file\"])\n",
    "print(df)"
   ],
   "outputs": [
    {
     "output_type": "stream",
     "name": "stdout",
     "text": [
      "         video_class                    video_file\n",
      "0     ApplyEyeMakeup  v_ApplyEyeMakeup_g01_c01.avi\n",
      "1     ApplyEyeMakeup  v_ApplyEyeMakeup_g01_c02.avi\n",
      "2     ApplyEyeMakeup  v_ApplyEyeMakeup_g01_c03.avi\n",
      "3     ApplyEyeMakeup  v_ApplyEyeMakeup_g01_c04.avi\n",
      "4     ApplyEyeMakeup  v_ApplyEyeMakeup_g01_c05.avi\n",
      "...              ...                           ...\n",
      "3778            YoYo            v_YoYo_g06_c04.avi\n",
      "3779            YoYo            v_YoYo_g07_c01.avi\n",
      "3780            YoYo            v_YoYo_g07_c02.avi\n",
      "3781            YoYo            v_YoYo_g07_c03.avi\n",
      "3782            YoYo            v_YoYo_g07_c04.avi\n",
      "\n",
      "[3783 rows x 2 columns]\n"
     ]
    }
   ],
   "metadata": {}
  },
  {
   "cell_type": "code",
   "execution_count": 53,
   "source": [
    "label_list = []\n",
    "for i in range(len(df.index)):\n",
    "    if df.iloc[i].video_class not in label_list:\n",
    "        label_list.append(df.iloc[i].video_class)\n",
    "\n",
    "print(label_list)"
   ],
   "outputs": [
    {
     "output_type": "stream",
     "name": "stdout",
     "text": [
      "['ApplyEyeMakeup', 'ApplyLipstick', 'Archery', 'BabyCrawling', 'BalanceBeam', 'BandMarching', 'BaseballPitch', 'Basketball', 'BasketballDunk', 'BenchPress', 'Biking', 'Billiards', 'BlowDryHair', 'BlowingCandles', 'BodyWeightSquats', 'Bowling', 'BoxingPunchingBag', 'BoxingSpeedBag', 'BreastStroke', 'BrushingTeeth', 'CleanAndJerk', 'CliffDiving', 'CricketBowling', 'CricketShot', 'CuttingInKitchen', 'Diving', 'Drumming', 'Fencing', 'FieldHockeyPenalty', 'FloorGymnastics', 'FrisbeeCatch', 'FrontCrawl', 'GolfSwing', 'Haircut', 'Hammering', 'HammerThrow', 'HandstandPushups', 'HandstandWalking', 'HeadMassage', 'HighJump', 'HorseRace', 'HorseRiding', 'HulaHoop', 'IceDancing', 'JavelinThrow', 'JugglingBalls', 'JumpingJack', 'JumpRope', 'Kayaking', 'Knitting', 'LongJump', 'Lunges', 'MilitaryParade', 'Mixing', 'MoppingFloor', 'Nunchucks', 'ParallelBars', 'PizzaTossing', 'PlayingCello', 'PlayingDaf', 'PlayingDhol', 'PlayingFlute', 'PlayingGuitar', 'PlayingPiano', 'PlayingSitar', 'PlayingTabla', 'PlayingViolin', 'PoleVault', 'PommelHorse', 'PullUps', 'Punch', 'PushUps', 'Rafting', 'RockClimbingIndoor', 'RopeClimbing', 'Rowing', 'SalsaSpin', 'ShavingBeard', 'Shotput', 'SkateBoarding', 'Skiing', 'Skijet', 'SkyDiving', 'SoccerJuggling', 'SoccerPenalty', 'StillRings', 'SumoWrestling', 'Surfing', 'Swing', 'TableTennisShot', 'TaiChi', 'TennisSwing', 'ThrowDiscus', 'TrampolineJumping', 'Typing', 'UnevenBars', 'VolleyballSpiking', 'WalkingWithDog', 'WallPushups', 'WritingOnBoard', 'YoYo']\n"
     ]
    }
   ],
   "metadata": {}
  },
  {
   "cell_type": "code",
   "execution_count": 54,
   "source": [
    "df[\"label_id\"] =-1\n",
    "for i in range(len(label_list)):\n",
    "    df.loc[df[\"video_class\"]==label_list[i], \"label_id\"] = i + 1\n",
    "print(df)"
   ],
   "outputs": [
    {
     "output_type": "stream",
     "name": "stdout",
     "text": [
      "         video_class                    video_file  label_id\n",
      "0     ApplyEyeMakeup  v_ApplyEyeMakeup_g01_c01.avi         1\n",
      "1     ApplyEyeMakeup  v_ApplyEyeMakeup_g01_c02.avi         1\n",
      "2     ApplyEyeMakeup  v_ApplyEyeMakeup_g01_c03.avi         1\n",
      "3     ApplyEyeMakeup  v_ApplyEyeMakeup_g01_c04.avi         1\n",
      "4     ApplyEyeMakeup  v_ApplyEyeMakeup_g01_c05.avi         1\n",
      "...              ...                           ...       ...\n",
      "3778            YoYo            v_YoYo_g06_c04.avi       101\n",
      "3779            YoYo            v_YoYo_g07_c01.avi       101\n",
      "3780            YoYo            v_YoYo_g07_c02.avi       101\n",
      "3781            YoYo            v_YoYo_g07_c03.avi       101\n",
      "3782            YoYo            v_YoYo_g07_c04.avi       101\n",
      "\n",
      "[3783 rows x 3 columns]\n"
     ]
    }
   ],
   "metadata": {}
  },
  {
   "cell_type": "code",
   "execution_count": 55,
   "source": [
    "print(\"{0} {1}\".format(\n",
    "    df_org.iloc[0].video_path,\n",
    "    df.iloc[0].label_id\n",
    "))\n",
    "                "
   ],
   "outputs": [
    {
     "output_type": "stream",
     "name": "stdout",
     "text": [
      "ApplyEyeMakeup/v_ApplyEyeMakeup_g01_c01.avi 1\n"
     ]
    }
   ],
   "metadata": {}
  },
  {
   "cell_type": "code",
   "execution_count": 57,
   "source": [
    "f = open('test.txt', 'w')\n",
    "for i in range(len(df.index)):\n",
    "    f.write(\"{0} {1}\\n\".format(\n",
    "        df_org.iloc[i].video_path,\n",
    "        df.iloc[i].label_id\n",
    "    ))\n",
    "f.close()"
   ],
   "outputs": [],
   "metadata": {}
  },
  {
   "cell_type": "code",
   "execution_count": null,
   "source": [],
   "outputs": [],
   "metadata": {}
  }
 ],
 "metadata": {
  "orig_nbformat": 4,
  "language_info": {
   "name": "python",
   "version": "3.8.8",
   "mimetype": "text/x-python",
   "codemirror_mode": {
    "name": "ipython",
    "version": 3
   },
   "pygments_lexer": "ipython3",
   "nbconvert_exporter": "python",
   "file_extension": ".py"
  },
  "kernelspec": {
   "name": "python3",
   "display_name": "Python 3.8.8 64-bit ('base': conda)"
  },
  "interpreter": {
   "hash": "98b0a9b7b4eaaa670588a142fd0a9b87eaafe866f1db4228be72b4211d12040f"
  }
 },
 "nbformat": 4,
 "nbformat_minor": 2
}